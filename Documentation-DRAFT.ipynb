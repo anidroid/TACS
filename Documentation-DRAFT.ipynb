{
 "cells": [
  {
   "cell_type": "markdown",
   "metadata": {},
   "source": [
    "# TACS: Documentation"
   ]
  },
  {
   "cell_type": "markdown",
   "metadata": {},
   "source": [
    "## Installation"
   ]
  },
  {
   "cell_type": "markdown",
   "metadata": {},
   "source": [
    "TACS requires `Python` and the libraries `pandas`,`spacy`, `re`. Visualisations require `Jupyter Notebook`."
   ]
  },
  {
   "cell_type": "code",
   "execution_count": 227,
   "metadata": {},
   "outputs": [],
   "source": [
    "%run tacs.py"
   ]
  },
  {
   "cell_type": "markdown",
   "metadata": {},
   "source": [
    "## Introduction"
   ]
  },
  {
   "cell_type": "markdown",
   "metadata": {},
   "source": [
    "### Framework\n",
    "\n",
    "The dictionary consists of words and phrases (**Lexemes**). At the lowest level, lexical variants (_pass phrase_ and _password_) or very similar in meaning (_security gap_ and _secuirty hole_) are grouped into **Terms**. Each term is assigned to 1 of 4 **Domains**: Cyber Security (e.g. _hacker, password_), Security (e.g., _safety, danger_), Cyber (e.g., _mobile phone, user_), and General (_company, child_). Terms are further grouped into the broader **Concepts** to which they relate (e.g., the **Terms** _Exploit_ and _Security Flaw_ are grouped under the **Concept** _Vulnerability_. Concepts are assigned to 1 of several categories, nested within 2 over-arching dimensions--Security and Context--which can be thought of as separate dictionaries. The **Security Categories** are: 'Cybersecurity', 'Security Actor', 'Security General','Security Mechanism','Threat Actor','Threat General','Threat Mechanism'. The **Context Categories** are: 'Activity', 'Cyber Entity', 'Individual', 'Org', 'Quality'. \n",
    "\n",
    "The `tacs_show()` function with the `out='vis'` option can be used to visualise the framework as an interactive sunburst diagram in a Jupyter Notebook. The option `out='table'` produces a table with custom level. If `level='category'` is selected, the table shows one category per row, with concepts and their domains listed in a string. If `level='concept'`, each concept is displayed followed by a string of terms."
   ]
  },
  {
   "cell_type": "code",
   "execution_count": 228,
   "metadata": {},
   "outputs": [
    {
     "data": {
      "application/vnd.plotly.v1+json": {
       "config": {
        "plotlyServerURL": "https://plot.ly"
       },
       "data": [
        {
         "domain": {
          "column": 0
         },
         "insidetextfont": {
          "size": 11
         },
         "labels": [
          "Safety",
          "S General",
          "S Mechanism",
          "S Actor",
          "T Actor",
          "Security",
          "Threat",
          "T General",
          "T Mechanism",
          "Vulnerability ",
          "Misc Threat ",
          "Phishing ",
          "Malware ",
          "Insider Threat ",
          "Identity Fraud ",
          "Hacking ",
          "Cyber Fraud ",
          "Espionage ",
          "Cyberbullying ",
          "Breach ",
          "Harm ",
          "Crime ",
          "Threat ",
          "Risk ",
          "Insecure ",
          "Hack ",
          "Disruption ",
          "Attack ",
          "Hacker ",
          "Criminal ",
          "Attacker ",
          "Updates ",
          "Training ",
          "Security Software ",
          "Regulatory ",
          "Patching ",
          "Password ",
          "Encryption ",
          "Encoding ",
          "Authentication ",
          "Anti-Malware ",
          "Access Control ",
          "Resilience ",
          "Confidentiality ",
          "Authenticity ",
          "Security ",
          "Protection ",
          "Privacy ",
          "Security Expert ",
          "Security Firm "
         ],
         "maxdepth": 4,
         "parents": [
          "Security",
          "Safety",
          "Safety",
          "Safety",
          "Threat",
          "",
          "Security",
          "Threat",
          "Threat",
          "T Mechanism",
          "T Mechanism",
          "T Mechanism",
          "T Mechanism",
          "T Mechanism",
          "T Mechanism",
          "T Mechanism",
          "T Mechanism",
          "T Mechanism",
          "T Mechanism",
          "T Mechanism",
          "T General",
          "T General",
          "T General",
          "T General",
          "T General",
          "T General",
          "T General",
          "T General",
          "T Actor",
          "T Actor",
          "T Actor",
          "S Mechanism",
          "S Mechanism",
          "S Mechanism",
          "S Mechanism",
          "S Mechanism",
          "S Mechanism",
          "S Mechanism",
          "S Mechanism",
          "S Mechanism",
          "S Mechanism",
          "S Mechanism",
          "S General",
          "S General",
          "S General",
          "S General",
          "S General",
          "S General",
          "S Actor",
          "S Actor"
         ],
         "type": "sunburst"
        },
        {
         "domain": {
          "column": 1
         },
         "insidetextfont": {
          "size": 11
         },
         "labels": [
          "Context",
          "Quality",
          "Org",
          "Individual",
          "Cyber Entity",
          "Activity",
          "Positive ",
          "Negative ",
          "Tech ",
          "Organisation ",
          "Medical ",
          "Law & Order ",
          "Gov ",
          "Fin ",
          "User ",
          "Relationship ",
          "Pronoun3 ",
          "Pronoun2 ",
          "Pronoun1 ",
          "Work Role ",
          "Individual ",
          "Technology ",
          "Software ",
          "Network ",
          "Mobile Device ",
          "Internet ",
          "Device ",
          "Digi Comm ",
          "Asset ",
          "User Account ",
          "UI ",
          "Sharing ",
          "Political ",
          "Financial ",
          "Comm ",
          "Access "
         ],
         "maxdepth": 3,
         "parents": [
          "",
          "Context",
          "Context",
          "Context",
          "Context",
          "Context",
          "Quality",
          "Quality",
          "Org",
          "Org",
          "Org",
          "Org",
          "Org",
          "Org",
          "Individual",
          "Individual",
          "Individual",
          "Individual",
          "Individual",
          "Individual",
          "Individual",
          "Cyber Entity",
          "Cyber Entity",
          "Cyber Entity",
          "Cyber Entity",
          "Cyber Entity",
          "Cyber Entity",
          "Cyber Entity",
          "Cyber Entity",
          "Cyber Entity",
          "Activity",
          "Activity",
          "Activity",
          "Activity",
          "Activity",
          "Activity"
         ],
         "type": "sunburst"
        }
       ],
       "layout": {
        "extendsunburstcolors": true,
        "grid": {
         "columns": 2,
         "rows": 1
        },
        "margin": {
         "b": 0,
         "l": 0,
         "r": 0,
         "t": 0
        },
        "sunburstcolorway": [
         "#F23843",
         "#2C54B8",
         "#2F4F4F",
         "#2F4F4F",
         "#2F4F4F",
         "#2F4F4F",
         "#2F4F4F",
         "#2F4F4F",
         "#2F4F4F",
         "#2F4F4F",
         "#2F4F4F",
         "#D7D7D7",
         "#D7D7D7",
         "#D7D7D7",
         "#D7D7D7",
         "#D7D7D7",
         "#D7D7D7",
         "#D7D7D7",
         "#D7D7D7",
         "#D7D7D7"
        ],
        "template": {
         "data": {
          "bar": [
           {
            "error_x": {
             "color": "#2a3f5f"
            },
            "error_y": {
             "color": "#2a3f5f"
            },
            "marker": {
             "line": {
              "color": "#E5ECF6",
              "width": 0.5
             }
            },
            "type": "bar"
           }
          ],
          "barpolar": [
           {
            "marker": {
             "line": {
              "color": "#E5ECF6",
              "width": 0.5
             }
            },
            "type": "barpolar"
           }
          ],
          "carpet": [
           {
            "aaxis": {
             "endlinecolor": "#2a3f5f",
             "gridcolor": "white",
             "linecolor": "white",
             "minorgridcolor": "white",
             "startlinecolor": "#2a3f5f"
            },
            "baxis": {
             "endlinecolor": "#2a3f5f",
             "gridcolor": "white",
             "linecolor": "white",
             "minorgridcolor": "white",
             "startlinecolor": "#2a3f5f"
            },
            "type": "carpet"
           }
          ],
          "choropleth": [
           {
            "colorbar": {
             "outlinewidth": 0,
             "ticks": ""
            },
            "type": "choropleth"
           }
          ],
          "contour": [
           {
            "colorbar": {
             "outlinewidth": 0,
             "ticks": ""
            },
            "colorscale": [
             [
              0,
              "#0d0887"
             ],
             [
              0.1111111111111111,
              "#46039f"
             ],
             [
              0.2222222222222222,
              "#7201a8"
             ],
             [
              0.3333333333333333,
              "#9c179e"
             ],
             [
              0.4444444444444444,
              "#bd3786"
             ],
             [
              0.5555555555555556,
              "#d8576b"
             ],
             [
              0.6666666666666666,
              "#ed7953"
             ],
             [
              0.7777777777777778,
              "#fb9f3a"
             ],
             [
              0.8888888888888888,
              "#fdca26"
             ],
             [
              1,
              "#f0f921"
             ]
            ],
            "type": "contour"
           }
          ],
          "contourcarpet": [
           {
            "colorbar": {
             "outlinewidth": 0,
             "ticks": ""
            },
            "type": "contourcarpet"
           }
          ],
          "heatmap": [
           {
            "colorbar": {
             "outlinewidth": 0,
             "ticks": ""
            },
            "colorscale": [
             [
              0,
              "#0d0887"
             ],
             [
              0.1111111111111111,
              "#46039f"
             ],
             [
              0.2222222222222222,
              "#7201a8"
             ],
             [
              0.3333333333333333,
              "#9c179e"
             ],
             [
              0.4444444444444444,
              "#bd3786"
             ],
             [
              0.5555555555555556,
              "#d8576b"
             ],
             [
              0.6666666666666666,
              "#ed7953"
             ],
             [
              0.7777777777777778,
              "#fb9f3a"
             ],
             [
              0.8888888888888888,
              "#fdca26"
             ],
             [
              1,
              "#f0f921"
             ]
            ],
            "type": "heatmap"
           }
          ],
          "heatmapgl": [
           {
            "colorbar": {
             "outlinewidth": 0,
             "ticks": ""
            },
            "colorscale": [
             [
              0,
              "#0d0887"
             ],
             [
              0.1111111111111111,
              "#46039f"
             ],
             [
              0.2222222222222222,
              "#7201a8"
             ],
             [
              0.3333333333333333,
              "#9c179e"
             ],
             [
              0.4444444444444444,
              "#bd3786"
             ],
             [
              0.5555555555555556,
              "#d8576b"
             ],
             [
              0.6666666666666666,
              "#ed7953"
             ],
             [
              0.7777777777777778,
              "#fb9f3a"
             ],
             [
              0.8888888888888888,
              "#fdca26"
             ],
             [
              1,
              "#f0f921"
             ]
            ],
            "type": "heatmapgl"
           }
          ],
          "histogram": [
           {
            "marker": {
             "colorbar": {
              "outlinewidth": 0,
              "ticks": ""
             }
            },
            "type": "histogram"
           }
          ],
          "histogram2d": [
           {
            "colorbar": {
             "outlinewidth": 0,
             "ticks": ""
            },
            "colorscale": [
             [
              0,
              "#0d0887"
             ],
             [
              0.1111111111111111,
              "#46039f"
             ],
             [
              0.2222222222222222,
              "#7201a8"
             ],
             [
              0.3333333333333333,
              "#9c179e"
             ],
             [
              0.4444444444444444,
              "#bd3786"
             ],
             [
              0.5555555555555556,
              "#d8576b"
             ],
             [
              0.6666666666666666,
              "#ed7953"
             ],
             [
              0.7777777777777778,
              "#fb9f3a"
             ],
             [
              0.8888888888888888,
              "#fdca26"
             ],
             [
              1,
              "#f0f921"
             ]
            ],
            "type": "histogram2d"
           }
          ],
          "histogram2dcontour": [
           {
            "colorbar": {
             "outlinewidth": 0,
             "ticks": ""
            },
            "colorscale": [
             [
              0,
              "#0d0887"
             ],
             [
              0.1111111111111111,
              "#46039f"
             ],
             [
              0.2222222222222222,
              "#7201a8"
             ],
             [
              0.3333333333333333,
              "#9c179e"
             ],
             [
              0.4444444444444444,
              "#bd3786"
             ],
             [
              0.5555555555555556,
              "#d8576b"
             ],
             [
              0.6666666666666666,
              "#ed7953"
             ],
             [
              0.7777777777777778,
              "#fb9f3a"
             ],
             [
              0.8888888888888888,
              "#fdca26"
             ],
             [
              1,
              "#f0f921"
             ]
            ],
            "type": "histogram2dcontour"
           }
          ],
          "mesh3d": [
           {
            "colorbar": {
             "outlinewidth": 0,
             "ticks": ""
            },
            "type": "mesh3d"
           }
          ],
          "parcoords": [
           {
            "line": {
             "colorbar": {
              "outlinewidth": 0,
              "ticks": ""
             }
            },
            "type": "parcoords"
           }
          ],
          "pie": [
           {
            "automargin": true,
            "type": "pie"
           }
          ],
          "scatter": [
           {
            "marker": {
             "colorbar": {
              "outlinewidth": 0,
              "ticks": ""
             }
            },
            "type": "scatter"
           }
          ],
          "scatter3d": [
           {
            "line": {
             "colorbar": {
              "outlinewidth": 0,
              "ticks": ""
             }
            },
            "marker": {
             "colorbar": {
              "outlinewidth": 0,
              "ticks": ""
             }
            },
            "type": "scatter3d"
           }
          ],
          "scattercarpet": [
           {
            "marker": {
             "colorbar": {
              "outlinewidth": 0,
              "ticks": ""
             }
            },
            "type": "scattercarpet"
           }
          ],
          "scattergeo": [
           {
            "marker": {
             "colorbar": {
              "outlinewidth": 0,
              "ticks": ""
             }
            },
            "type": "scattergeo"
           }
          ],
          "scattergl": [
           {
            "marker": {
             "colorbar": {
              "outlinewidth": 0,
              "ticks": ""
             }
            },
            "type": "scattergl"
           }
          ],
          "scattermapbox": [
           {
            "marker": {
             "colorbar": {
              "outlinewidth": 0,
              "ticks": ""
             }
            },
            "type": "scattermapbox"
           }
          ],
          "scatterpolar": [
           {
            "marker": {
             "colorbar": {
              "outlinewidth": 0,
              "ticks": ""
             }
            },
            "type": "scatterpolar"
           }
          ],
          "scatterpolargl": [
           {
            "marker": {
             "colorbar": {
              "outlinewidth": 0,
              "ticks": ""
             }
            },
            "type": "scatterpolargl"
           }
          ],
          "scatterternary": [
           {
            "marker": {
             "colorbar": {
              "outlinewidth": 0,
              "ticks": ""
             }
            },
            "type": "scatterternary"
           }
          ],
          "surface": [
           {
            "colorbar": {
             "outlinewidth": 0,
             "ticks": ""
            },
            "colorscale": [
             [
              0,
              "#0d0887"
             ],
             [
              0.1111111111111111,
              "#46039f"
             ],
             [
              0.2222222222222222,
              "#7201a8"
             ],
             [
              0.3333333333333333,
              "#9c179e"
             ],
             [
              0.4444444444444444,
              "#bd3786"
             ],
             [
              0.5555555555555556,
              "#d8576b"
             ],
             [
              0.6666666666666666,
              "#ed7953"
             ],
             [
              0.7777777777777778,
              "#fb9f3a"
             ],
             [
              0.8888888888888888,
              "#fdca26"
             ],
             [
              1,
              "#f0f921"
             ]
            ],
            "type": "surface"
           }
          ],
          "table": [
           {
            "cells": {
             "fill": {
              "color": "#EBF0F8"
             },
             "line": {
              "color": "white"
             }
            },
            "header": {
             "fill": {
              "color": "#C8D4E3"
             },
             "line": {
              "color": "white"
             }
            },
            "type": "table"
           }
          ]
         },
         "layout": {
          "annotationdefaults": {
           "arrowcolor": "#2a3f5f",
           "arrowhead": 0,
           "arrowwidth": 1
          },
          "coloraxis": {
           "colorbar": {
            "outlinewidth": 0,
            "ticks": ""
           }
          },
          "colorscale": {
           "diverging": [
            [
             0,
             "#8e0152"
            ],
            [
             0.1,
             "#c51b7d"
            ],
            [
             0.2,
             "#de77ae"
            ],
            [
             0.3,
             "#f1b6da"
            ],
            [
             0.4,
             "#fde0ef"
            ],
            [
             0.5,
             "#f7f7f7"
            ],
            [
             0.6,
             "#e6f5d0"
            ],
            [
             0.7,
             "#b8e186"
            ],
            [
             0.8,
             "#7fbc41"
            ],
            [
             0.9,
             "#4d9221"
            ],
            [
             1,
             "#276419"
            ]
           ],
           "sequential": [
            [
             0,
             "#0d0887"
            ],
            [
             0.1111111111111111,
             "#46039f"
            ],
            [
             0.2222222222222222,
             "#7201a8"
            ],
            [
             0.3333333333333333,
             "#9c179e"
            ],
            [
             0.4444444444444444,
             "#bd3786"
            ],
            [
             0.5555555555555556,
             "#d8576b"
            ],
            [
             0.6666666666666666,
             "#ed7953"
            ],
            [
             0.7777777777777778,
             "#fb9f3a"
            ],
            [
             0.8888888888888888,
             "#fdca26"
            ],
            [
             1,
             "#f0f921"
            ]
           ],
           "sequentialminus": [
            [
             0,
             "#0d0887"
            ],
            [
             0.1111111111111111,
             "#46039f"
            ],
            [
             0.2222222222222222,
             "#7201a8"
            ],
            [
             0.3333333333333333,
             "#9c179e"
            ],
            [
             0.4444444444444444,
             "#bd3786"
            ],
            [
             0.5555555555555556,
             "#d8576b"
            ],
            [
             0.6666666666666666,
             "#ed7953"
            ],
            [
             0.7777777777777778,
             "#fb9f3a"
            ],
            [
             0.8888888888888888,
             "#fdca26"
            ],
            [
             1,
             "#f0f921"
            ]
           ]
          },
          "colorway": [
           "#636efa",
           "#EF553B",
           "#00cc96",
           "#ab63fa",
           "#FFA15A",
           "#19d3f3",
           "#FF6692",
           "#B6E880",
           "#FF97FF",
           "#FECB52"
          ],
          "font": {
           "color": "#2a3f5f"
          },
          "geo": {
           "bgcolor": "white",
           "lakecolor": "white",
           "landcolor": "#E5ECF6",
           "showlakes": true,
           "showland": true,
           "subunitcolor": "white"
          },
          "hoverlabel": {
           "align": "left"
          },
          "hovermode": "closest",
          "mapbox": {
           "style": "light"
          },
          "paper_bgcolor": "white",
          "plot_bgcolor": "#E5ECF6",
          "polar": {
           "angularaxis": {
            "gridcolor": "white",
            "linecolor": "white",
            "ticks": ""
           },
           "bgcolor": "#E5ECF6",
           "radialaxis": {
            "gridcolor": "white",
            "linecolor": "white",
            "ticks": ""
           }
          },
          "scene": {
           "xaxis": {
            "backgroundcolor": "#E5ECF6",
            "gridcolor": "white",
            "gridwidth": 2,
            "linecolor": "white",
            "showbackground": true,
            "ticks": "",
            "zerolinecolor": "white"
           },
           "yaxis": {
            "backgroundcolor": "#E5ECF6",
            "gridcolor": "white",
            "gridwidth": 2,
            "linecolor": "white",
            "showbackground": true,
            "ticks": "",
            "zerolinecolor": "white"
           },
           "zaxis": {
            "backgroundcolor": "#E5ECF6",
            "gridcolor": "white",
            "gridwidth": 2,
            "linecolor": "white",
            "showbackground": true,
            "ticks": "",
            "zerolinecolor": "white"
           }
          },
          "shapedefaults": {
           "line": {
            "color": "#2a3f5f"
           }
          },
          "ternary": {
           "aaxis": {
            "gridcolor": "white",
            "linecolor": "white",
            "ticks": ""
           },
           "baxis": {
            "gridcolor": "white",
            "linecolor": "white",
            "ticks": ""
           },
           "bgcolor": "#E5ECF6",
           "caxis": {
            "gridcolor": "white",
            "linecolor": "white",
            "ticks": ""
           }
          },
          "title": {
           "x": 0.05
          },
          "xaxis": {
           "automargin": true,
           "gridcolor": "white",
           "linecolor": "white",
           "ticks": "",
           "title": {
            "standoff": 15
           },
           "zerolinecolor": "white",
           "zerolinewidth": 2
          },
          "yaxis": {
           "automargin": true,
           "gridcolor": "white",
           "linecolor": "white",
           "ticks": "",
           "title": {
            "standoff": 15
           },
           "zerolinecolor": "white",
           "zerolinewidth": 2
          }
         }
        }
       }
      },
      "text/html": [
       "<div>\n",
       "        \n",
       "        \n",
       "            <div id=\"00cd4e49-0559-4c35-a50b-57a8c8daca49\" class=\"plotly-graph-div\" style=\"height:525px; width:100%;\"></div>\n",
       "            <script type=\"text/javascript\">\n",
       "                require([\"plotly\"], function(Plotly) {\n",
       "                    window.PLOTLYENV=window.PLOTLYENV || {};\n",
       "                    \n",
       "                if (document.getElementById(\"00cd4e49-0559-4c35-a50b-57a8c8daca49\")) {\n",
       "                    Plotly.newPlot(\n",
       "                        '00cd4e49-0559-4c35-a50b-57a8c8daca49',\n",
       "                        [{\"domain\": {\"column\": 0}, \"insidetextfont\": {\"size\": 11}, \"labels\": [\"Safety\", \"S General\", \"S Mechanism\", \"S Actor\", \"T Actor\", \"Security\", \"Threat\", \"T General\", \"T Mechanism\", \"Vulnerability \", \"Misc Threat \", \"Phishing \", \"Malware \", \"Insider Threat \", \"Identity Fraud \", \"Hacking \", \"Cyber Fraud \", \"Espionage \", \"Cyberbullying \", \"Breach \", \"Harm \", \"Crime \", \"Threat \", \"Risk \", \"Insecure \", \"Hack \", \"Disruption \", \"Attack \", \"Hacker \", \"Criminal \", \"Attacker \", \"Updates \", \"Training \", \"Security Software \", \"Regulatory \", \"Patching \", \"Password \", \"Encryption \", \"Encoding \", \"Authentication \", \"Anti-Malware \", \"Access Control \", \"Resilience \", \"Confidentiality \", \"Authenticity \", \"Security \", \"Protection \", \"Privacy \", \"Security Expert \", \"Security Firm \"], \"maxdepth\": 4, \"parents\": [\"Security\", \"Safety\", \"Safety\", \"Safety\", \"Threat\", \"\", \"Security\", \"Threat\", \"Threat\", \"T Mechanism\", \"T Mechanism\", \"T Mechanism\", \"T Mechanism\", \"T Mechanism\", \"T Mechanism\", \"T Mechanism\", \"T Mechanism\", \"T Mechanism\", \"T Mechanism\", \"T Mechanism\", \"T General\", \"T General\", \"T General\", \"T General\", \"T General\", \"T General\", \"T General\", \"T General\", \"T Actor\", \"T Actor\", \"T Actor\", \"S Mechanism\", \"S Mechanism\", \"S Mechanism\", \"S Mechanism\", \"S Mechanism\", \"S Mechanism\", \"S Mechanism\", \"S Mechanism\", \"S Mechanism\", \"S Mechanism\", \"S Mechanism\", \"S General\", \"S General\", \"S General\", \"S General\", \"S General\", \"S General\", \"S Actor\", \"S Actor\"], \"type\": \"sunburst\"}, {\"domain\": {\"column\": 1}, \"insidetextfont\": {\"size\": 11}, \"labels\": [\"Context\", \"Quality\", \"Org\", \"Individual\", \"Cyber Entity\", \"Activity\", \"Positive \", \"Negative \", \"Tech \", \"Organisation \", \"Medical \", \"Law & Order \", \"Gov \", \"Fin \", \"User \", \"Relationship \", \"Pronoun3 \", \"Pronoun2 \", \"Pronoun1 \", \"Work Role \", \"Individual \", \"Technology \", \"Software \", \"Network \", \"Mobile Device \", \"Internet \", \"Device \", \"Digi Comm \", \"Asset \", \"User Account \", \"UI \", \"Sharing \", \"Political \", \"Financial \", \"Comm \", \"Access \"], \"maxdepth\": 3, \"parents\": [\"\", \"Context\", \"Context\", \"Context\", \"Context\", \"Context\", \"Quality\", \"Quality\", \"Org\", \"Org\", \"Org\", \"Org\", \"Org\", \"Org\", \"Individual\", \"Individual\", \"Individual\", \"Individual\", \"Individual\", \"Individual\", \"Individual\", \"Cyber Entity\", \"Cyber Entity\", \"Cyber Entity\", \"Cyber Entity\", \"Cyber Entity\", \"Cyber Entity\", \"Cyber Entity\", \"Cyber Entity\", \"Cyber Entity\", \"Activity\", \"Activity\", \"Activity\", \"Activity\", \"Activity\", \"Activity\"], \"type\": \"sunburst\"}],\n",
       "                        {\"extendsunburstcolors\": true, \"grid\": {\"columns\": 2, \"rows\": 1}, \"margin\": {\"b\": 0, \"l\": 0, \"r\": 0, \"t\": 0}, \"sunburstcolorway\": [\"#F23843\", \"#2C54B8\", \"#2F4F4F\", \"#2F4F4F\", \"#2F4F4F\", \"#2F4F4F\", \"#2F4F4F\", \"#2F4F4F\", \"#2F4F4F\", \"#2F4F4F\", \"#2F4F4F\", \"#D7D7D7\", \"#D7D7D7\", \"#D7D7D7\", \"#D7D7D7\", \"#D7D7D7\", \"#D7D7D7\", \"#D7D7D7\", \"#D7D7D7\", \"#D7D7D7\"], \"template\": {\"data\": {\"bar\": [{\"error_x\": {\"color\": \"#2a3f5f\"}, \"error_y\": {\"color\": \"#2a3f5f\"}, \"marker\": {\"line\": {\"color\": \"#E5ECF6\", \"width\": 0.5}}, \"type\": \"bar\"}], \"barpolar\": [{\"marker\": {\"line\": {\"color\": \"#E5ECF6\", \"width\": 0.5}}, \"type\": \"barpolar\"}], \"carpet\": [{\"aaxis\": {\"endlinecolor\": \"#2a3f5f\", \"gridcolor\": \"white\", \"linecolor\": \"white\", \"minorgridcolor\": \"white\", \"startlinecolor\": \"#2a3f5f\"}, \"baxis\": {\"endlinecolor\": \"#2a3f5f\", \"gridcolor\": \"white\", \"linecolor\": \"white\", \"minorgridcolor\": \"white\", \"startlinecolor\": \"#2a3f5f\"}, \"type\": \"carpet\"}], \"choropleth\": [{\"colorbar\": {\"outlinewidth\": 0, \"ticks\": \"\"}, \"type\": \"choropleth\"}], \"contour\": [{\"colorbar\": {\"outlinewidth\": 0, \"ticks\": \"\"}, \"colorscale\": [[0.0, \"#0d0887\"], [0.1111111111111111, \"#46039f\"], [0.2222222222222222, \"#7201a8\"], [0.3333333333333333, \"#9c179e\"], [0.4444444444444444, \"#bd3786\"], [0.5555555555555556, \"#d8576b\"], [0.6666666666666666, \"#ed7953\"], [0.7777777777777778, \"#fb9f3a\"], [0.8888888888888888, \"#fdca26\"], [1.0, \"#f0f921\"]], \"type\": \"contour\"}], \"contourcarpet\": [{\"colorbar\": {\"outlinewidth\": 0, \"ticks\": \"\"}, \"type\": \"contourcarpet\"}], \"heatmap\": [{\"colorbar\": {\"outlinewidth\": 0, \"ticks\": \"\"}, \"colorscale\": [[0.0, \"#0d0887\"], [0.1111111111111111, \"#46039f\"], [0.2222222222222222, \"#7201a8\"], [0.3333333333333333, \"#9c179e\"], [0.4444444444444444, \"#bd3786\"], [0.5555555555555556, \"#d8576b\"], [0.6666666666666666, \"#ed7953\"], [0.7777777777777778, \"#fb9f3a\"], [0.8888888888888888, \"#fdca26\"], [1.0, \"#f0f921\"]], \"type\": \"heatmap\"}], \"heatmapgl\": [{\"colorbar\": {\"outlinewidth\": 0, \"ticks\": \"\"}, \"colorscale\": [[0.0, \"#0d0887\"], [0.1111111111111111, \"#46039f\"], [0.2222222222222222, \"#7201a8\"], [0.3333333333333333, \"#9c179e\"], [0.4444444444444444, \"#bd3786\"], [0.5555555555555556, \"#d8576b\"], [0.6666666666666666, \"#ed7953\"], [0.7777777777777778, \"#fb9f3a\"], [0.8888888888888888, \"#fdca26\"], [1.0, \"#f0f921\"]], \"type\": \"heatmapgl\"}], \"histogram\": [{\"marker\": {\"colorbar\": {\"outlinewidth\": 0, \"ticks\": \"\"}}, \"type\": \"histogram\"}], \"histogram2d\": [{\"colorbar\": {\"outlinewidth\": 0, \"ticks\": \"\"}, \"colorscale\": [[0.0, \"#0d0887\"], [0.1111111111111111, \"#46039f\"], [0.2222222222222222, \"#7201a8\"], [0.3333333333333333, \"#9c179e\"], [0.4444444444444444, \"#bd3786\"], [0.5555555555555556, \"#d8576b\"], [0.6666666666666666, \"#ed7953\"], [0.7777777777777778, \"#fb9f3a\"], [0.8888888888888888, \"#fdca26\"], [1.0, \"#f0f921\"]], \"type\": \"histogram2d\"}], \"histogram2dcontour\": [{\"colorbar\": {\"outlinewidth\": 0, \"ticks\": \"\"}, \"colorscale\": [[0.0, \"#0d0887\"], [0.1111111111111111, \"#46039f\"], [0.2222222222222222, \"#7201a8\"], [0.3333333333333333, \"#9c179e\"], [0.4444444444444444, \"#bd3786\"], [0.5555555555555556, \"#d8576b\"], [0.6666666666666666, \"#ed7953\"], [0.7777777777777778, \"#fb9f3a\"], [0.8888888888888888, \"#fdca26\"], [1.0, \"#f0f921\"]], \"type\": \"histogram2dcontour\"}], \"mesh3d\": [{\"colorbar\": {\"outlinewidth\": 0, \"ticks\": \"\"}, \"type\": \"mesh3d\"}], \"parcoords\": [{\"line\": {\"colorbar\": {\"outlinewidth\": 0, \"ticks\": \"\"}}, \"type\": \"parcoords\"}], \"pie\": [{\"automargin\": true, \"type\": \"pie\"}], \"scatter\": [{\"marker\": {\"colorbar\": {\"outlinewidth\": 0, \"ticks\": \"\"}}, \"type\": \"scatter\"}], \"scatter3d\": [{\"line\": {\"colorbar\": {\"outlinewidth\": 0, \"ticks\": \"\"}}, \"marker\": {\"colorbar\": {\"outlinewidth\": 0, \"ticks\": \"\"}}, \"type\": \"scatter3d\"}], \"scattercarpet\": [{\"marker\": {\"colorbar\": {\"outlinewidth\": 0, \"ticks\": \"\"}}, \"type\": \"scattercarpet\"}], \"scattergeo\": [{\"marker\": {\"colorbar\": {\"outlinewidth\": 0, \"ticks\": \"\"}}, \"type\": \"scattergeo\"}], \"scattergl\": [{\"marker\": {\"colorbar\": {\"outlinewidth\": 0, \"ticks\": \"\"}}, \"type\": \"scattergl\"}], \"scattermapbox\": [{\"marker\": {\"colorbar\": {\"outlinewidth\": 0, \"ticks\": \"\"}}, \"type\": \"scattermapbox\"}], \"scatterpolar\": [{\"marker\": {\"colorbar\": {\"outlinewidth\": 0, \"ticks\": \"\"}}, \"type\": \"scatterpolar\"}], \"scatterpolargl\": [{\"marker\": {\"colorbar\": {\"outlinewidth\": 0, \"ticks\": \"\"}}, \"type\": \"scatterpolargl\"}], \"scatterternary\": [{\"marker\": {\"colorbar\": {\"outlinewidth\": 0, \"ticks\": \"\"}}, \"type\": \"scatterternary\"}], \"surface\": [{\"colorbar\": {\"outlinewidth\": 0, \"ticks\": \"\"}, \"colorscale\": [[0.0, \"#0d0887\"], [0.1111111111111111, \"#46039f\"], [0.2222222222222222, \"#7201a8\"], [0.3333333333333333, \"#9c179e\"], [0.4444444444444444, \"#bd3786\"], [0.5555555555555556, \"#d8576b\"], [0.6666666666666666, \"#ed7953\"], [0.7777777777777778, \"#fb9f3a\"], [0.8888888888888888, \"#fdca26\"], [1.0, \"#f0f921\"]], \"type\": \"surface\"}], \"table\": [{\"cells\": {\"fill\": {\"color\": \"#EBF0F8\"}, \"line\": {\"color\": \"white\"}}, \"header\": {\"fill\": {\"color\": \"#C8D4E3\"}, \"line\": {\"color\": \"white\"}}, \"type\": \"table\"}]}, \"layout\": {\"annotationdefaults\": {\"arrowcolor\": \"#2a3f5f\", \"arrowhead\": 0, \"arrowwidth\": 1}, \"coloraxis\": {\"colorbar\": {\"outlinewidth\": 0, \"ticks\": \"\"}}, \"colorscale\": {\"diverging\": [[0, \"#8e0152\"], [0.1, \"#c51b7d\"], [0.2, \"#de77ae\"], [0.3, \"#f1b6da\"], [0.4, \"#fde0ef\"], [0.5, \"#f7f7f7\"], [0.6, \"#e6f5d0\"], [0.7, \"#b8e186\"], [0.8, \"#7fbc41\"], [0.9, \"#4d9221\"], [1, \"#276419\"]], \"sequential\": [[0.0, \"#0d0887\"], [0.1111111111111111, \"#46039f\"], [0.2222222222222222, \"#7201a8\"], [0.3333333333333333, \"#9c179e\"], [0.4444444444444444, \"#bd3786\"], [0.5555555555555556, \"#d8576b\"], [0.6666666666666666, \"#ed7953\"], [0.7777777777777778, \"#fb9f3a\"], [0.8888888888888888, \"#fdca26\"], [1.0, \"#f0f921\"]], \"sequentialminus\": [[0.0, \"#0d0887\"], [0.1111111111111111, \"#46039f\"], [0.2222222222222222, \"#7201a8\"], [0.3333333333333333, \"#9c179e\"], [0.4444444444444444, \"#bd3786\"], [0.5555555555555556, \"#d8576b\"], [0.6666666666666666, \"#ed7953\"], [0.7777777777777778, \"#fb9f3a\"], [0.8888888888888888, \"#fdca26\"], [1.0, \"#f0f921\"]]}, \"colorway\": [\"#636efa\", \"#EF553B\", \"#00cc96\", \"#ab63fa\", \"#FFA15A\", \"#19d3f3\", \"#FF6692\", \"#B6E880\", \"#FF97FF\", \"#FECB52\"], \"font\": {\"color\": \"#2a3f5f\"}, \"geo\": {\"bgcolor\": \"white\", \"lakecolor\": \"white\", \"landcolor\": \"#E5ECF6\", \"showlakes\": true, \"showland\": true, \"subunitcolor\": \"white\"}, \"hoverlabel\": {\"align\": \"left\"}, \"hovermode\": \"closest\", \"mapbox\": {\"style\": \"light\"}, \"paper_bgcolor\": \"white\", \"plot_bgcolor\": \"#E5ECF6\", \"polar\": {\"angularaxis\": {\"gridcolor\": \"white\", \"linecolor\": \"white\", \"ticks\": \"\"}, \"bgcolor\": \"#E5ECF6\", \"radialaxis\": {\"gridcolor\": \"white\", \"linecolor\": \"white\", \"ticks\": \"\"}}, \"scene\": {\"xaxis\": {\"backgroundcolor\": \"#E5ECF6\", \"gridcolor\": \"white\", \"gridwidth\": 2, \"linecolor\": \"white\", \"showbackground\": true, \"ticks\": \"\", \"zerolinecolor\": \"white\"}, \"yaxis\": {\"backgroundcolor\": \"#E5ECF6\", \"gridcolor\": \"white\", \"gridwidth\": 2, \"linecolor\": \"white\", \"showbackground\": true, \"ticks\": \"\", \"zerolinecolor\": \"white\"}, \"zaxis\": {\"backgroundcolor\": \"#E5ECF6\", \"gridcolor\": \"white\", \"gridwidth\": 2, \"linecolor\": \"white\", \"showbackground\": true, \"ticks\": \"\", \"zerolinecolor\": \"white\"}}, \"shapedefaults\": {\"line\": {\"color\": \"#2a3f5f\"}}, \"ternary\": {\"aaxis\": {\"gridcolor\": \"white\", \"linecolor\": \"white\", \"ticks\": \"\"}, \"baxis\": {\"gridcolor\": \"white\", \"linecolor\": \"white\", \"ticks\": \"\"}, \"bgcolor\": \"#E5ECF6\", \"caxis\": {\"gridcolor\": \"white\", \"linecolor\": \"white\", \"ticks\": \"\"}}, \"title\": {\"x\": 0.05}, \"xaxis\": {\"automargin\": true, \"gridcolor\": \"white\", \"linecolor\": \"white\", \"ticks\": \"\", \"title\": {\"standoff\": 15}, \"zerolinecolor\": \"white\", \"zerolinewidth\": 2}, \"yaxis\": {\"automargin\": true, \"gridcolor\": \"white\", \"linecolor\": \"white\", \"ticks\": \"\", \"title\": {\"standoff\": 15}, \"zerolinecolor\": \"white\", \"zerolinewidth\": 2}}}},\n",
       "                        {\"responsive\": true}\n",
       "                    ).then(function(){\n",
       "                            \n",
       "var gd = document.getElementById('00cd4e49-0559-4c35-a50b-57a8c8daca49');\n",
       "var x = new MutationObserver(function (mutations, observer) {{\n",
       "        var display = window.getComputedStyle(gd).display;\n",
       "        if (!display || display === 'none') {{\n",
       "            console.log([gd, 'removed!']);\n",
       "            Plotly.purge(gd);\n",
       "            observer.disconnect();\n",
       "        }}\n",
       "}});\n",
       "\n",
       "// Listen for the removal of the full notebook cells\n",
       "var notebookContainer = gd.closest('#notebook-container');\n",
       "if (notebookContainer) {{\n",
       "    x.observe(notebookContainer, {childList: true});\n",
       "}}\n",
       "\n",
       "// Listen for the clearing of the current output cell\n",
       "var outputEl = gd.closest('.output');\n",
       "if (outputEl) {{\n",
       "    x.observe(outputEl, {childList: true});\n",
       "}}\n",
       "\n",
       "                        })\n",
       "                };\n",
       "                });\n",
       "            </script>\n",
       "        </div>"
      ]
     },
     "metadata": {},
     "output_type": "display_data"
    }
   ],
   "source": [
    "tacs_show(context=True, out='vis')"
   ]
  },
  {
   "cell_type": "code",
   "execution_count": 25,
   "metadata": {
    "scrolled": false
   },
   "outputs": [
    {
     "data": {
      "text/html": [
       "<div>\n",
       "<style scoped>\n",
       "    .dataframe tbody tr th:only-of-type {\n",
       "        vertical-align: middle;\n",
       "    }\n",
       "\n",
       "    .dataframe tbody tr th {\n",
       "        vertical-align: top;\n",
       "    }\n",
       "\n",
       "    .dataframe thead th {\n",
       "        text-align: right;\n",
       "    }\n",
       "</style>\n",
       "<table border=\"1\" class=\"dataframe\">\n",
       "  <thead>\n",
       "    <tr style=\"text-align: right;\">\n",
       "      <th></th>\n",
       "      <th></th>\n",
       "      <th>concept_domain</th>\n",
       "    </tr>\n",
       "    <tr>\n",
       "      <th>dict</th>\n",
       "      <th>cat</th>\n",
       "      <th></th>\n",
       "    </tr>\n",
       "  </thead>\n",
       "  <tbody>\n",
       "    <tr>\n",
       "      <th rowspan=\"7\" valign=\"top\">Security</th>\n",
       "      <th>Threat Mechanism</th>\n",
       "      <td>Vulnerability(S), Vulnerability(CS), Misc Thre...</td>\n",
       "    </tr>\n",
       "    <tr>\n",
       "      <th>Threat General</th>\n",
       "      <td>Harm(S), Crime(S), Threat(S), Risk(CS), Risk(S...</td>\n",
       "    </tr>\n",
       "    <tr>\n",
       "      <th>Threat Actor</th>\n",
       "      <td>Hacker(CS), Criminal(S), Attacker(S)</td>\n",
       "    </tr>\n",
       "    <tr>\n",
       "      <th>Security Mechanism</th>\n",
       "      <td>Updates(G), Updates(CS), Updates(S), Training(...</td>\n",
       "    </tr>\n",
       "    <tr>\n",
       "      <th>Security General</th>\n",
       "      <td>Resilience(S), Confidentiality(S), Authenticit...</td>\n",
       "    </tr>\n",
       "    <tr>\n",
       "      <th>Security Actor</th>\n",
       "      <td>Security Expert(CS), Security Expert(S), Secur...</td>\n",
       "    </tr>\n",
       "    <tr>\n",
       "      <th>Cybersecurity</th>\n",
       "      <td>Cybersecurity(CS), Cybersecurity(S)</td>\n",
       "    </tr>\n",
       "    <tr>\n",
       "      <th rowspan=\"5\" valign=\"top\">Context</th>\n",
       "      <th>Quality</th>\n",
       "      <td>Positive(S), Positive(G), Negative(G)</td>\n",
       "    </tr>\n",
       "    <tr>\n",
       "      <th>Org</th>\n",
       "      <td>Tech(C), Organisation(S), Medical(S), Law &amp; Or...</td>\n",
       "    </tr>\n",
       "    <tr>\n",
       "      <th>Individual</th>\n",
       "      <td>User(C), User(G), Relationship(G), Pronoun3(G)...</td>\n",
       "    </tr>\n",
       "    <tr>\n",
       "      <th>Cyber Entity</th>\n",
       "      <td>Technology(C), Software(C), Network(C), Mobile...</td>\n",
       "    </tr>\n",
       "    <tr>\n",
       "      <th>Activity</th>\n",
       "      <td>UI(C), Sharing(C), Political(C), Financial(C),...</td>\n",
       "    </tr>\n",
       "  </tbody>\n",
       "</table>\n",
       "</div>"
      ],
      "text/plain": [
       "                                                                concept_domain\n",
       "dict     cat                                                                  \n",
       "Security Threat Mechanism    Vulnerability(S), Vulnerability(CS), Misc Thre...\n",
       "         Threat General      Harm(S), Crime(S), Threat(S), Risk(CS), Risk(S...\n",
       "         Threat Actor                     Hacker(CS), Criminal(S), Attacker(S)\n",
       "         Security Mechanism  Updates(G), Updates(CS), Updates(S), Training(...\n",
       "         Security General    Resilience(S), Confidentiality(S), Authenticit...\n",
       "         Security Actor      Security Expert(CS), Security Expert(S), Secur...\n",
       "         Cybersecurity                     Cybersecurity(CS), Cybersecurity(S)\n",
       "Context  Quality                         Positive(S), Positive(G), Negative(G)\n",
       "         Org                 Tech(C), Organisation(S), Medical(S), Law & Or...\n",
       "         Individual          User(C), User(G), Relationship(G), Pronoun3(G)...\n",
       "         Cyber Entity        Technology(C), Software(C), Network(C), Mobile...\n",
       "         Activity            UI(C), Sharing(C), Political(C), Financial(C),..."
      ]
     },
     "execution_count": 25,
     "metadata": {},
     "output_type": "execute_result"
    }
   ],
   "source": [
    "tacs_show('table',level='cat')"
   ]
  },
  {
   "cell_type": "markdown",
   "metadata": {},
   "source": [
    "## Tagging & Tokenisation"
   ]
  },
  {
   "cell_type": "markdown",
   "metadata": {},
   "source": [
    "At the foundation of all TACS operations is the tagging function, whereby each dictionary lexeme is identified in a document. The function retruns a tokenised version of the document, in which each token is represented by tuple containing the token and its respective category or, if the word is not in the dictionary, the string 'None'."
   ]
  },
  {
   "cell_type": "code",
   "execution_count": 31,
   "metadata": {
    "scrolled": false
   },
   "outputs": [
    {
     "data": {
      "text/plain": [
       "the boy is bullied online"
      ]
     },
     "execution_count": 31,
     "metadata": {},
     "output_type": "execute_result"
    }
   ],
   "source": [
    "tacs_tag('the boy is bullied online')"
   ]
  },
  {
   "cell_type": "code",
   "execution_count": 32,
   "metadata": {
    "scrolled": true
   },
   "outputs": [
    {
     "data": {
      "text/html": [
       " the<b>&nbsp boy </b><sub>  Individual </sub> is<b>&nbsp bullied </b><sub>  Cyberbullying </sub><b>&nbsp online </b><sub>  Internet </sub>"
      ],
      "text/plain": [
       "<IPython.core.display.HTML object>"
      ]
     },
     "metadata": {},
     "output_type": "display_data"
    }
   ],
   "source": [
    "tacs_annotate_doc(tacs_tag('the boy is bullied online'),render=True)"
   ]
  },
  {
   "cell_type": "markdown",
   "metadata": {},
   "source": [
    "*TACS offers a number of helper functions to render and process tokenised documents. These are explained in greated detail in the suplementary materials. Here we use the render function which returns annotated document in html format."
   ]
  },
  {
   "cell_type": "markdown",
   "metadata": {},
   "source": [
    "### Context-aware tagging\n",
    "\n",
    "The tagger attempts to tag non-cybersecurity terms only if they appear in the context/vicinity of cybersecurity. Currently, context is determined by a simple rule: A non-cs term is only tagged if its `n` neighbouring terms contain one cybersecurity term or (one cyber and one security term) `cs|(c&s)`. "
   ]
  },
  {
   "cell_type": "code",
   "execution_count": 34,
   "metadata": {
    "scrolled": true
   },
   "outputs": [
    {
     "data": {
      "text/html": [
       " the<b>&nbsp boy </b><sub>  Individual </sub> is<b>&nbsp bullied </b><sub>  Cyberbullying </sub><b>&nbsp online </b><sub>  Internet </sub>"
      ],
      "text/plain": [
       "<IPython.core.display.HTML object>"
      ]
     },
     "metadata": {},
     "output_type": "display_data"
    },
    {
     "data": {
      "text/html": [
       " the boy is bullied in school"
      ],
      "text/plain": [
       "<IPython.core.display.HTML object>"
      ]
     },
     "metadata": {},
     "output_type": "display_data"
    },
    {
     "data": {
      "text/html": [
       " the boy is shopping in school"
      ],
      "text/plain": [
       "<IPython.core.display.HTML object>"
      ]
     },
     "metadata": {},
     "output_type": "display_data"
    }
   ],
   "source": [
    "tacs_annotate_doc(tacs_tag('the boy is bullied online'),render=True)\n",
    "tacs_annotate_doc(tacs_tag('the boy is bullied in school'),render=True)\n",
    "tacs_annotate_doc(tacs_tag('the boy is shopping in school'),render=True)"
   ]
  },
  {
   "cell_type": "markdown",
   "metadata": {},
   "source": [
    "The context rule offers for a couple of simple parameters:\n",
    "- it can be disabled altogether `context_rule=False`\n",
    "- the default context rule `cs|(c&s)` can be replaced with a more conservative version where neighbours must include a cybersecurity term `c&s`\n",
    "- the window of neighbours can be specified via `context_window=10`\n",
    "\n",
    "Note the different parameters in the following examples:"
   ]
  },
  {
   "cell_type": "code",
   "execution_count": 33,
   "metadata": {
    "scrolled": true
   },
   "outputs": [
    {
     "data": {
      "text/html": [
       " the<b>&nbsp boy </b><sub>  Individual </sub> is<b>&nbsp shopping </b><sub>  Financial </sub><b>&nbsp online </b><sub>  Internet </sub>"
      ],
      "text/plain": [
       "<IPython.core.display.HTML object>"
      ]
     },
     "metadata": {},
     "output_type": "display_data"
    },
    {
     "data": {
      "text/html": [
       " the boy is shopping online"
      ],
      "text/plain": [
       "<IPython.core.display.HTML object>"
      ]
     },
     "metadata": {},
     "output_type": "display_data"
    },
    {
     "data": {
      "text/html": [
       " the<b>&nbsp boy </b><sub>  Individual </sub> is<b>&nbsp shopping </b><sub>  Financial </sub><b>&nbsp online </b><sub>  Internet </sub> using a<b>&nbsp password </b><sub>  Password </sub>"
      ],
      "text/plain": [
       "<IPython.core.display.HTML object>"
      ]
     },
     "metadata": {},
     "output_type": "display_data"
    },
    {
     "data": {
      "text/html": [
       " the boy is shopping<b>&nbsp online </b><sub>  Internet </sub> using a<b>&nbsp password </b><sub>  Password </sub>"
      ],
      "text/plain": [
       "<IPython.core.display.HTML object>"
      ]
     },
     "metadata": {},
     "output_type": "display_data"
    }
   ],
   "source": [
    "tacs_annotate_doc(tacs_tag('the boy is shopping online',context_rule=False),render=True)\n",
    "tacs_annotate_doc(tacs_tag('the boy is shopping online',context_rule='cs'),render=True)\n",
    "tacs_annotate_doc(tacs_tag('the boy is shopping online using a password',context_rule='cs'),render=True)\n",
    "tacs_annotate_doc(tacs_tag('the boy is shopping online using a password',context_rule='cs',context_window=4),render=True)"
   ]
  },
  {
   "cell_type": "markdown",
   "metadata": {},
   "source": [
    "## Counting"
   ]
  },
  {
   "cell_type": "markdown",
   "metadata": {},
   "source": [
    "> ### TODO\n",
    "> - path to folder as input; subfolders as grouping var"
   ]
  },
  {
   "cell_type": "markdown",
   "metadata": {},
   "source": [
    "To demonstrate this function, importing is a dataset 'data'."
   ]
  },
  {
   "cell_type": "code",
   "execution_count": 109,
   "metadata": {},
   "outputs": [],
   "source": [
    "from pathlib import Path\n",
    "from os import getcwd, chdir\n",
    "corpuspath = str(Path(getcwd()).parent)+'/corpus/'\n",
    "data = pd.read_csv(open(corpuspath+'data.csv','rb'))\n",
    "data = data.sample(100).reset_index(drop=True)"
   ]
  },
  {
   "cell_type": "markdown",
   "metadata": {},
   "source": [
    "The simplest form of analysis is counting the number of times TACS terms occur in text. The counting function provides the options to count Concepts or Categories, specify a grouping variable or count in each document. \n",
    "\n",
    "**Input:** The input of the counting function can be a list of documents or a table (dataframe). The function will first check if the input contains documents that are already preprocessed with tacs (spacy docs). If not, the function will look for full-text documents and process them (this will take time). If preprocessing is required, the full-text column in the dataframe should be labelled 'text' or the label would have to be specified via the `textcol` parameter.\n",
    "\n",
    "**Grouping:** The function allows for 3 types of aggregation, specified via the `aggr` parameter: \n",
    "- `all` aggregates all documents and returns a single column for the entire dataset\n",
    "- `each` returns a single column per document\n",
    "- a custom grouping variable in the form of a list (corresponding to the lenght and order of documents) or the name of a column in the dataframe\n",
    "\n",
    "**Output**: Table with Dictionary Categories as rows and documents as columns. Option to aggregate dictionary levels (e.g., sum Concept counts into Categories). If counting across documents (`agg = 'all'`), the most frequent instances of the aggregated level (e.g., Terms if Concept counts are shown; Concepts for Categories) are included in the table as a string.\n",
    "\n",
    "**Parameters:**\n",
    "- level\n",
    "- aggregate\n",
    "- normalisation\n",
    "- ..."
   ]
  },
  {
   "cell_type": "code",
   "execution_count": 113,
   "metadata": {},
   "outputs": [],
   "source": [
    "data['tokdocs'] = tacs_tag(data.text)"
   ]
  },
  {
   "cell_type": "code",
   "execution_count": 114,
   "metadata": {
    "scrolled": true
   },
   "outputs": [
    {
     "data": {
      "text/html": [
       "<div>\n",
       "<style scoped>\n",
       "    .dataframe tbody tr th:only-of-type {\n",
       "        vertical-align: middle;\n",
       "    }\n",
       "\n",
       "    .dataframe tbody tr th {\n",
       "        vertical-align: top;\n",
       "    }\n",
       "\n",
       "    .dataframe thead th {\n",
       "        text-align: right;\n",
       "    }\n",
       "</style>\n",
       "<table border=\"1\" class=\"dataframe\">\n",
       "  <thead>\n",
       "    <tr style=\"text-align: right;\">\n",
       "      <th></th>\n",
       "      <th></th>\n",
       "      <th></th>\n",
       "      <th>doc_newspapers</th>\n",
       "      <th>doc_tradejournals</th>\n",
       "      <th>doc_magazines</th>\n",
       "    </tr>\n",
       "    <tr>\n",
       "      <th>dict</th>\n",
       "      <th>cat</th>\n",
       "      <th>concept</th>\n",
       "      <th></th>\n",
       "      <th></th>\n",
       "      <th></th>\n",
       "    </tr>\n",
       "  </thead>\n",
       "  <tbody>\n",
       "    <tr>\n",
       "      <th rowspan=\"30\" valign=\"top\">Context</th>\n",
       "      <th rowspan=\"6\" valign=\"top\">Activity</th>\n",
       "      <th>Access</th>\n",
       "      <td>1</td>\n",
       "      <td>4</td>\n",
       "      <td>1</td>\n",
       "    </tr>\n",
       "    <tr>\n",
       "      <th>Comm</th>\n",
       "      <td>22</td>\n",
       "      <td>29</td>\n",
       "      <td>13</td>\n",
       "    </tr>\n",
       "    <tr>\n",
       "      <th>Financial</th>\n",
       "      <td>0</td>\n",
       "      <td>0</td>\n",
       "      <td>1</td>\n",
       "    </tr>\n",
       "    <tr>\n",
       "      <th>Political</th>\n",
       "      <td>0</td>\n",
       "      <td>0</td>\n",
       "      <td>0</td>\n",
       "    </tr>\n",
       "    <tr>\n",
       "      <th>Sharing</th>\n",
       "      <td>1</td>\n",
       "      <td>2</td>\n",
       "      <td>1</td>\n",
       "    </tr>\n",
       "    <tr>\n",
       "      <th>UI</th>\n",
       "      <td>2</td>\n",
       "      <td>5</td>\n",
       "      <td>8</td>\n",
       "    </tr>\n",
       "    <tr>\n",
       "      <th rowspan=\"9\" valign=\"top\">Cyber Entity</th>\n",
       "      <th>Asset</th>\n",
       "      <td>68</td>\n",
       "      <td>162</td>\n",
       "      <td>59</td>\n",
       "    </tr>\n",
       "    <tr>\n",
       "      <th>Device</th>\n",
       "      <td>84</td>\n",
       "      <td>78</td>\n",
       "      <td>56</td>\n",
       "    </tr>\n",
       "    <tr>\n",
       "      <th>Digi Comm</th>\n",
       "      <td>1</td>\n",
       "      <td>2</td>\n",
       "      <td>3</td>\n",
       "    </tr>\n",
       "    <tr>\n",
       "      <th>Internet</th>\n",
       "      <td>83</td>\n",
       "      <td>122</td>\n",
       "      <td>94</td>\n",
       "    </tr>\n",
       "    <tr>\n",
       "      <th>Mobile Device</th>\n",
       "      <td>7</td>\n",
       "      <td>8</td>\n",
       "      <td>4</td>\n",
       "    </tr>\n",
       "    <tr>\n",
       "      <th>Network</th>\n",
       "      <td>57</td>\n",
       "      <td>124</td>\n",
       "      <td>24</td>\n",
       "    </tr>\n",
       "    <tr>\n",
       "      <th>Software</th>\n",
       "      <td>57</td>\n",
       "      <td>82</td>\n",
       "      <td>32</td>\n",
       "    </tr>\n",
       "    <tr>\n",
       "      <th>Technology</th>\n",
       "      <td>44</td>\n",
       "      <td>112</td>\n",
       "      <td>62</td>\n",
       "    </tr>\n",
       "    <tr>\n",
       "      <th>User Account</th>\n",
       "      <td>1</td>\n",
       "      <td>0</td>\n",
       "      <td>0</td>\n",
       "    </tr>\n",
       "    <tr>\n",
       "      <th rowspan=\"7\" valign=\"top\">Individual</th>\n",
       "      <th>Individual</th>\n",
       "      <td>22</td>\n",
       "      <td>40</td>\n",
       "      <td>19</td>\n",
       "    </tr>\n",
       "    <tr>\n",
       "      <th>Pronoun1</th>\n",
       "      <td>28</td>\n",
       "      <td>88</td>\n",
       "      <td>28</td>\n",
       "    </tr>\n",
       "    <tr>\n",
       "      <th>Pronoun2</th>\n",
       "      <td>13</td>\n",
       "      <td>112</td>\n",
       "      <td>69</td>\n",
       "    </tr>\n",
       "    <tr>\n",
       "      <th>Pronoun3</th>\n",
       "      <td>19</td>\n",
       "      <td>41</td>\n",
       "      <td>29</td>\n",
       "    </tr>\n",
       "    <tr>\n",
       "      <th>Relationship</th>\n",
       "      <td>0</td>\n",
       "      <td>0</td>\n",
       "      <td>1</td>\n",
       "    </tr>\n",
       "    <tr>\n",
       "      <th>User</th>\n",
       "      <td>42</td>\n",
       "      <td>68</td>\n",
       "      <td>31</td>\n",
       "    </tr>\n",
       "    <tr>\n",
       "      <th>Work Role</th>\n",
       "      <td>36</td>\n",
       "      <td>73</td>\n",
       "      <td>13</td>\n",
       "    </tr>\n",
       "    <tr>\n",
       "      <th rowspan=\"6\" valign=\"top\">Org</th>\n",
       "      <th>Fin</th>\n",
       "      <td>3</td>\n",
       "      <td>23</td>\n",
       "      <td>1</td>\n",
       "    </tr>\n",
       "    <tr>\n",
       "      <th>Gov</th>\n",
       "      <td>19</td>\n",
       "      <td>6</td>\n",
       "      <td>23</td>\n",
       "    </tr>\n",
       "    <tr>\n",
       "      <th>Law &amp; Order</th>\n",
       "      <td>3</td>\n",
       "      <td>4</td>\n",
       "      <td>0</td>\n",
       "    </tr>\n",
       "    <tr>\n",
       "      <th>Medical</th>\n",
       "      <td>0</td>\n",
       "      <td>0</td>\n",
       "      <td>0</td>\n",
       "    </tr>\n",
       "    <tr>\n",
       "      <th>Organisation</th>\n",
       "      <td>158</td>\n",
       "      <td>236</td>\n",
       "      <td>105</td>\n",
       "    </tr>\n",
       "    <tr>\n",
       "      <th>Tech</th>\n",
       "      <td>48</td>\n",
       "      <td>29</td>\n",
       "      <td>24</td>\n",
       "    </tr>\n",
       "    <tr>\n",
       "      <th rowspan=\"2\" valign=\"top\">Quality</th>\n",
       "      <th>Negative</th>\n",
       "      <td>16</td>\n",
       "      <td>42</td>\n",
       "      <td>27</td>\n",
       "    </tr>\n",
       "    <tr>\n",
       "      <th>Positive</th>\n",
       "      <td>15</td>\n",
       "      <td>35</td>\n",
       "      <td>16</td>\n",
       "    </tr>\n",
       "    <tr>\n",
       "      <th>...</th>\n",
       "      <th>...</th>\n",
       "      <th>...</th>\n",
       "      <td>...</td>\n",
       "      <td>...</td>\n",
       "      <td>...</td>\n",
       "    </tr>\n",
       "    <tr>\n",
       "      <th rowspan=\"30\" valign=\"top\">Security</th>\n",
       "      <th rowspan=\"8\" valign=\"top\">Security Mechanism</th>\n",
       "      <th>Encoding</th>\n",
       "      <td>7</td>\n",
       "      <td>24</td>\n",
       "      <td>5</td>\n",
       "    </tr>\n",
       "    <tr>\n",
       "      <th>Encryption</th>\n",
       "      <td>7</td>\n",
       "      <td>55</td>\n",
       "      <td>11</td>\n",
       "    </tr>\n",
       "    <tr>\n",
       "      <th>Password</th>\n",
       "      <td>16</td>\n",
       "      <td>40</td>\n",
       "      <td>21</td>\n",
       "    </tr>\n",
       "    <tr>\n",
       "      <th>Patching</th>\n",
       "      <td>24</td>\n",
       "      <td>54</td>\n",
       "      <td>6</td>\n",
       "    </tr>\n",
       "    <tr>\n",
       "      <th>Regulatory</th>\n",
       "      <td>7</td>\n",
       "      <td>71</td>\n",
       "      <td>14</td>\n",
       "    </tr>\n",
       "    <tr>\n",
       "      <th>Security Software</th>\n",
       "      <td>17</td>\n",
       "      <td>14</td>\n",
       "      <td>4</td>\n",
       "    </tr>\n",
       "    <tr>\n",
       "      <th>Training</th>\n",
       "      <td>9</td>\n",
       "      <td>6</td>\n",
       "      <td>2</td>\n",
       "    </tr>\n",
       "    <tr>\n",
       "      <th>Updates</th>\n",
       "      <td>5</td>\n",
       "      <td>15</td>\n",
       "      <td>4</td>\n",
       "    </tr>\n",
       "    <tr>\n",
       "      <th rowspan=\"3\" valign=\"top\">Threat Actor</th>\n",
       "      <th>Attacker</th>\n",
       "      <td>4</td>\n",
       "      <td>17</td>\n",
       "      <td>4</td>\n",
       "    </tr>\n",
       "    <tr>\n",
       "      <th>Criminal</th>\n",
       "      <td>2</td>\n",
       "      <td>4</td>\n",
       "      <td>2</td>\n",
       "    </tr>\n",
       "    <tr>\n",
       "      <th>Hacker</th>\n",
       "      <td>72</td>\n",
       "      <td>57</td>\n",
       "      <td>58</td>\n",
       "    </tr>\n",
       "    <tr>\n",
       "      <th rowspan=\"8\" valign=\"top\">Threat General</th>\n",
       "      <th>Attack</th>\n",
       "      <td>0</td>\n",
       "      <td>8</td>\n",
       "      <td>0</td>\n",
       "    </tr>\n",
       "    <tr>\n",
       "      <th>Crime</th>\n",
       "      <td>0</td>\n",
       "      <td>2</td>\n",
       "      <td>17</td>\n",
       "    </tr>\n",
       "    <tr>\n",
       "      <th>Disruption</th>\n",
       "      <td>3</td>\n",
       "      <td>5</td>\n",
       "      <td>2</td>\n",
       "    </tr>\n",
       "    <tr>\n",
       "      <th>Hack</th>\n",
       "      <td>6</td>\n",
       "      <td>7</td>\n",
       "      <td>5</td>\n",
       "    </tr>\n",
       "    <tr>\n",
       "      <th>Harm</th>\n",
       "      <td>22</td>\n",
       "      <td>30</td>\n",
       "      <td>18</td>\n",
       "    </tr>\n",
       "    <tr>\n",
       "      <th>Insecure</th>\n",
       "      <td>4</td>\n",
       "      <td>19</td>\n",
       "      <td>6</td>\n",
       "    </tr>\n",
       "    <tr>\n",
       "      <th>Risk</th>\n",
       "      <td>21</td>\n",
       "      <td>69</td>\n",
       "      <td>8</td>\n",
       "    </tr>\n",
       "    <tr>\n",
       "      <th>Threat</th>\n",
       "      <td>8</td>\n",
       "      <td>35</td>\n",
       "      <td>15</td>\n",
       "    </tr>\n",
       "    <tr>\n",
       "      <th rowspan=\"11\" valign=\"top\">Threat Mechanism</th>\n",
       "      <th>Breach</th>\n",
       "      <td>18</td>\n",
       "      <td>29</td>\n",
       "      <td>9</td>\n",
       "    </tr>\n",
       "    <tr>\n",
       "      <th>Cyber Fraud</th>\n",
       "      <td>10</td>\n",
       "      <td>1</td>\n",
       "      <td>10</td>\n",
       "    </tr>\n",
       "    <tr>\n",
       "      <th>Cyberbullying</th>\n",
       "      <td>0</td>\n",
       "      <td>0</td>\n",
       "      <td>0</td>\n",
       "    </tr>\n",
       "    <tr>\n",
       "      <th>Espionage</th>\n",
       "      <td>2</td>\n",
       "      <td>2</td>\n",
       "      <td>1</td>\n",
       "    </tr>\n",
       "    <tr>\n",
       "      <th>Hacking</th>\n",
       "      <td>13</td>\n",
       "      <td>19</td>\n",
       "      <td>24</td>\n",
       "    </tr>\n",
       "    <tr>\n",
       "      <th>Identity Fraud</th>\n",
       "      <td>2</td>\n",
       "      <td>8</td>\n",
       "      <td>1</td>\n",
       "    </tr>\n",
       "    <tr>\n",
       "      <th>Insider Threat</th>\n",
       "      <td>0</td>\n",
       "      <td>1</td>\n",
       "      <td>0</td>\n",
       "    </tr>\n",
       "    <tr>\n",
       "      <th>Malware</th>\n",
       "      <td>70</td>\n",
       "      <td>41</td>\n",
       "      <td>120</td>\n",
       "    </tr>\n",
       "    <tr>\n",
       "      <th>Misc Threat</th>\n",
       "      <td>18</td>\n",
       "      <td>9</td>\n",
       "      <td>2</td>\n",
       "    </tr>\n",
       "    <tr>\n",
       "      <th>Phishing</th>\n",
       "      <td>1</td>\n",
       "      <td>3</td>\n",
       "      <td>2</td>\n",
       "    </tr>\n",
       "    <tr>\n",
       "      <th>Vulnerability</th>\n",
       "      <td>36</td>\n",
       "      <td>29</td>\n",
       "      <td>23</td>\n",
       "    </tr>\n",
       "  </tbody>\n",
       "</table>\n",
       "<p>72 rows × 3 columns</p>\n",
       "</div>"
      ],
      "text/plain": [
       "                                               doc_newspapers  \\\n",
       "dict     cat                concept                             \n",
       "Context  Activity           Access                          1   \n",
       "                            Comm                           22   \n",
       "                            Financial                       0   \n",
       "                            Political                       0   \n",
       "                            Sharing                         1   \n",
       "                            UI                              2   \n",
       "         Cyber Entity       Asset                          68   \n",
       "                            Device                         84   \n",
       "                            Digi Comm                       1   \n",
       "                            Internet                       83   \n",
       "                            Mobile Device                   7   \n",
       "                            Network                        57   \n",
       "                            Software                       57   \n",
       "                            Technology                     44   \n",
       "                            User Account                    1   \n",
       "         Individual         Individual                     22   \n",
       "                            Pronoun1                       28   \n",
       "                            Pronoun2                       13   \n",
       "                            Pronoun3                       19   \n",
       "                            Relationship                    0   \n",
       "                            User                           42   \n",
       "                            Work Role                      36   \n",
       "         Org                Fin                             3   \n",
       "                            Gov                            19   \n",
       "                            Law & Order                     3   \n",
       "                            Medical                         0   \n",
       "                            Organisation                  158   \n",
       "                            Tech                           48   \n",
       "         Quality            Negative                       16   \n",
       "                            Positive                       15   \n",
       "...                                                       ...   \n",
       "Security Security Mechanism Encoding                        7   \n",
       "                            Encryption                      7   \n",
       "                            Password                       16   \n",
       "                            Patching                       24   \n",
       "                            Regulatory                      7   \n",
       "                            Security Software              17   \n",
       "                            Training                        9   \n",
       "                            Updates                         5   \n",
       "         Threat Actor       Attacker                        4   \n",
       "                            Criminal                        2   \n",
       "                            Hacker                         72   \n",
       "         Threat General     Attack                          0   \n",
       "                            Crime                           0   \n",
       "                            Disruption                      3   \n",
       "                            Hack                            6   \n",
       "                            Harm                           22   \n",
       "                            Insecure                        4   \n",
       "                            Risk                           21   \n",
       "                            Threat                          8   \n",
       "         Threat Mechanism   Breach                         18   \n",
       "                            Cyber Fraud                    10   \n",
       "                            Cyberbullying                   0   \n",
       "                            Espionage                       2   \n",
       "                            Hacking                        13   \n",
       "                            Identity Fraud                  2   \n",
       "                            Insider Threat                  0   \n",
       "                            Malware                        70   \n",
       "                            Misc Threat                    18   \n",
       "                            Phishing                        1   \n",
       "                            Vulnerability                  36   \n",
       "\n",
       "                                               doc_tradejournals  \\\n",
       "dict     cat                concept                                \n",
       "Context  Activity           Access                             4   \n",
       "                            Comm                              29   \n",
       "                            Financial                          0   \n",
       "                            Political                          0   \n",
       "                            Sharing                            2   \n",
       "                            UI                                 5   \n",
       "         Cyber Entity       Asset                            162   \n",
       "                            Device                            78   \n",
       "                            Digi Comm                          2   \n",
       "                            Internet                         122   \n",
       "                            Mobile Device                      8   \n",
       "                            Network                          124   \n",
       "                            Software                          82   \n",
       "                            Technology                       112   \n",
       "                            User Account                       0   \n",
       "         Individual         Individual                        40   \n",
       "                            Pronoun1                          88   \n",
       "                            Pronoun2                         112   \n",
       "                            Pronoun3                          41   \n",
       "                            Relationship                       0   \n",
       "                            User                              68   \n",
       "                            Work Role                         73   \n",
       "         Org                Fin                               23   \n",
       "                            Gov                                6   \n",
       "                            Law & Order                        4   \n",
       "                            Medical                            0   \n",
       "                            Organisation                     236   \n",
       "                            Tech                              29   \n",
       "         Quality            Negative                          42   \n",
       "                            Positive                          35   \n",
       "...                                                          ...   \n",
       "Security Security Mechanism Encoding                          24   \n",
       "                            Encryption                        55   \n",
       "                            Password                          40   \n",
       "                            Patching                          54   \n",
       "                            Regulatory                        71   \n",
       "                            Security Software                 14   \n",
       "                            Training                           6   \n",
       "                            Updates                           15   \n",
       "         Threat Actor       Attacker                          17   \n",
       "                            Criminal                           4   \n",
       "                            Hacker                            57   \n",
       "         Threat General     Attack                             8   \n",
       "                            Crime                              2   \n",
       "                            Disruption                         5   \n",
       "                            Hack                               7   \n",
       "                            Harm                              30   \n",
       "                            Insecure                          19   \n",
       "                            Risk                              69   \n",
       "                            Threat                            35   \n",
       "         Threat Mechanism   Breach                            29   \n",
       "                            Cyber Fraud                        1   \n",
       "                            Cyberbullying                      0   \n",
       "                            Espionage                          2   \n",
       "                            Hacking                           19   \n",
       "                            Identity Fraud                     8   \n",
       "                            Insider Threat                     1   \n",
       "                            Malware                           41   \n",
       "                            Misc Threat                        9   \n",
       "                            Phishing                           3   \n",
       "                            Vulnerability                     29   \n",
       "\n",
       "                                               doc_magazines  \n",
       "dict     cat                concept                           \n",
       "Context  Activity           Access                         1  \n",
       "                            Comm                          13  \n",
       "                            Financial                      1  \n",
       "                            Political                      0  \n",
       "                            Sharing                        1  \n",
       "                            UI                             8  \n",
       "         Cyber Entity       Asset                         59  \n",
       "                            Device                        56  \n",
       "                            Digi Comm                      3  \n",
       "                            Internet                      94  \n",
       "                            Mobile Device                  4  \n",
       "                            Network                       24  \n",
       "                            Software                      32  \n",
       "                            Technology                    62  \n",
       "                            User Account                   0  \n",
       "         Individual         Individual                    19  \n",
       "                            Pronoun1                      28  \n",
       "                            Pronoun2                      69  \n",
       "                            Pronoun3                      29  \n",
       "                            Relationship                   1  \n",
       "                            User                          31  \n",
       "                            Work Role                     13  \n",
       "         Org                Fin                            1  \n",
       "                            Gov                           23  \n",
       "                            Law & Order                    0  \n",
       "                            Medical                        0  \n",
       "                            Organisation                 105  \n",
       "                            Tech                          24  \n",
       "         Quality            Negative                      27  \n",
       "                            Positive                      16  \n",
       "...                                                      ...  \n",
       "Security Security Mechanism Encoding                       5  \n",
       "                            Encryption                    11  \n",
       "                            Password                      21  \n",
       "                            Patching                       6  \n",
       "                            Regulatory                    14  \n",
       "                            Security Software              4  \n",
       "                            Training                       2  \n",
       "                            Updates                        4  \n",
       "         Threat Actor       Attacker                       4  \n",
       "                            Criminal                       2  \n",
       "                            Hacker                        58  \n",
       "         Threat General     Attack                         0  \n",
       "                            Crime                         17  \n",
       "                            Disruption                     2  \n",
       "                            Hack                           5  \n",
       "                            Harm                          18  \n",
       "                            Insecure                       6  \n",
       "                            Risk                           8  \n",
       "                            Threat                        15  \n",
       "         Threat Mechanism   Breach                         9  \n",
       "                            Cyber Fraud                   10  \n",
       "                            Cyberbullying                  0  \n",
       "                            Espionage                      1  \n",
       "                            Hacking                       24  \n",
       "                            Identity Fraud                 1  \n",
       "                            Insider Threat                 0  \n",
       "                            Malware                      120  \n",
       "                            Misc Threat                    2  \n",
       "                            Phishing                       2  \n",
       "                            Vulnerability                 23  \n",
       "\n",
       "[72 rows x 3 columns]"
      ]
     },
     "execution_count": 114,
     "metadata": {},
     "output_type": "execute_result"
    }
   ],
   "source": [
    "tacs_count(data, level='concept', aggr='srctype', subcount = True)"
   ]
  },
  {
   "cell_type": "markdown",
   "metadata": {},
   "source": [
    "## Annotation"
   ]
  },
  {
   "cell_type": "markdown",
   "metadata": {},
   "source": [
    "Annotates documents such that TACS terms appear in bold, their TACS category as subscript. Annotated documents can be exported to a signle html file `show_annot=True` and/or displayed within a Jupyter Notebook `save_annot=True`. Currently, only HTML annotation is supported. Future versions can implement a DOCX variant."
   ]
  },
  {
   "cell_type": "code",
   "execution_count": 209,
   "metadata": {
    "scrolled": true
   },
   "outputs": [],
   "source": [
    "tacs_annotate(data[:3], output = 'html', custom=False, level='concept', context=True)"
   ]
  },
  {
   "cell_type": "markdown",
   "metadata": {},
   "source": [
    "## Queries\n",
    "\n",
    "The queries function return documents or sentences in which certain TACS categories appear. Queries can be specified using category keys (e.g. 'tttp') or labels (e.g. 'Threat Mechanisms) linked through AND and OR operators. For example `Mobile Devices AND ttp` would look for sentences (or documents where both of these categories are mentioned). By default, documents are split into sentences `qsents=True` and each sentence is queried indiviudally; if this is disabled, full documents are queried.\n",
    "\n",
    "Currently, query returns True if the specified condition is met at least once. Future iterations might implement an option to specify a custom threshold, e.g., Mobile Device mentioned > 3.\n",
    "\n",
    "**Output:**\n",
    "- Data: The result of the query can be saved as a table, with one searched units (documents or sentences) per rows and column for query outcome (True, i.e., condition met, or False). The id and full text of the unit are included. Selected via `save_data=False`.\n",
    "- Annotated documents*: The queried documents are returned in full. If sentences are queried separately, sentences matching the query are highlighted. Selected via `fulldoc=True`.\n",
    "- Excerpts*: Documents are returned as an itemised list of sentences matching the query. Selected via `fulldoc=False`.\n",
    "\n",
    "*As per the Annotation function, TACS terms appear in bold with categories as subscripts; the output can be saved `save_annot=True` and/or displayed in a Jupyter Notebook `show_annot=True`. Currently, only HTML annotation is supported. Future versions can implement a DOCX variant.\n",
    "\n",
    "**Parameters:**\n",
    "- ..."
   ]
  },
  {
   "cell_type": "code",
   "execution_count": 218,
   "metadata": {},
   "outputs": [],
   "source": [
    "%run tacs.py"
   ]
  },
  {
   "cell_type": "code",
   "execution_count": 226,
   "metadata": {},
   "outputs": [
    {
     "data": {
      "text/html": [
       "<h2>Document 0</h2> Q: You recently mentioned the HTC One as being priced at $ 200. I 've just been on the phone with my carrier T- Mobile, which offers me the HTC One for $ 100 down and $ 20 a month for 24 months. They explain they\" no longer offer discounted phones\" under their new world order or whatever. Can you explain? \n",
       " A: In the U.S., carriers traditionally subsidize the price of mobile<b>&nbsp phones </b><sub>  Mobile Device </sub> and then make back the<b>&nbsp money </b><sub>  Asset </sub> by requiring buyers to sign a two- year contract, so they do n't defect before the carrier has made back the subsidy from them. Under this formula, the HTC One is indeed $ 200 at AT&T. \n",
       " But T- Mobile recently announced a new approach under which it wo n't subsidize the phones, but will charge something close to what the phone maker charges it, spread out in monthly payments. In return, it wo n't require a two- year service contract. In the case of the HTC One and some other high- end smartphones, like the iPhone 5, that amounts to $ 100 down at purchase, plus $ 480 over two years--$20 a month. The actual voice and data service is in addition to the cost of the phone. \n",
       " Q: I have always been a<b>&nbsp Windows </b><sub>  Tech </sub><b>&nbsp user </b><sub>  User </sub>, and always used<b>&nbsp security_software </b><sub>  Security Software </sub>.<b>&nbsp I </b><sub>  Pronoun1 </sub> just purchased a new iMac and the folks at the<b>&nbsp Apple </b><sub>  Tech </sub> store have told<b>&nbsp me </b><sub>  Pronoun1 </sub> that<b>&nbsp security_software </b><sub>  Security Software </sub> is not needed on<b>&nbsp Apple </b><sub>  Tech </sub><b>&nbsp computers </b><sub>  Device </sub>. What is your opinion? \n",
       " A: The Mac is n't invulnerable to security problems. It 's just not targeted nearly as often as Windows PCs are.<span style=\"background-color:#cedde2\"> Relatively few Mac owners use<b>&nbsp security_software </b><sub>  Security Software </sub> because almost none of the vast array of<b>&nbsp malware </b><sub>  Malware </sub> programs around is designed for the Mac.</span> Nearly every one is designed to run on Windows, and they ca n't run on the Mac operating_system, unless you install Windows on the Mac. \n",
       "<b>&nbsp My </b><sub>  Pronoun1 </sub> advice: If<b>&nbsp security_software </b><sub>  Security Software </sub> makes<b>&nbsp you </b><sub>  Pronoun1 </sub> more comfortable, use it. Otherwise, unless you install Windows, the odds that your Mac could be successfully attacked are low enough that<b>&nbsp security_software </b><sub>  Security Software </sub> is n't needed.<span style=\"background-color:#cedde2\"> However,<b>&nbsp you </b><sub>  Pronoun1 </sub> are still<b>&nbsp vulnerable </b><sub>  Insecure </sub> to<b>&nbsp scams </b><sub>  Cyber Fraud </sub> which rely on greed, carelessness or<b>&nbsp fear </b><sub>  Threat </sub> to get<b>&nbsp you </b><sub>  Pronoun1 </sub> to open<b>&nbsp suspicious </b><sub>  Negative </sub> links in<b>&nbsp email </b><sub>  Comm </sub>.</span> Never do this, especially if the<b>&nbsp email </b><sub>  Comm </sub> purports to be from a<b>&nbsp financial_institution </b><sub>  Fin </sub> or credit- rating service. \n",
       " You can find Mossberg 's Mailbox, and my other columns at. Email<h2>Document 1</h2><span style=\"background-color:#cedde2\"> Federal<b>&nbsp authorities </b><sub>  Gov </sub> are investigating a<b>&nbsp security_breach </b><sub>  Breach </sub> at online- information service LexisNexis that compromised the records of about 32,000 people and heightened concerns about the theft of personal_information stored in data warehouses. \n",
       "</span> LexisNexis owner Reed Elsevier PLC said it notified U.S. law-<span style=\"background-color:#cedde2\"><b>&nbsp enforcement_agencies </b><sub>  Law & Order </sub> immediately upon discovering the<b>&nbsp security_breach </b><sub>  Breach </sub> and said it believes the files were accessed by<b>&nbsp hackers </b><sub>  Hacker </sub> at<b>&nbsp companies </b><sub>  Organisation </sub> that subscribe to LexisNexis.</span> It declined to specify the date of its discovery. \n",
       " Last month rival data broker ChoicePoint Inc. of Alpharetta, Ga., one of the largest sellers of<b>&nbsp private </b><sub>  Privacy </sub><b>&nbsp consumer </b><sub>  User </sub><b>&nbsp data </b><sub>  Asset </sub>, reported that the<b>&nbsp personal_information </b><sub>  Asset </sub> of 145,000 Americans may have been compromised in a breach in which thieves-- posing as small-<b>&nbsp business </b><sub>  Organisation </sub><b>&nbsp customers </b><sub>  User </sub>-- gained access to its<b>&nbsp database </b><sub>  Asset </sub>. \n",
       " LexisNexis estimates that 32,000 records, which are among millions the<b>&nbsp company </b><sub>  Organisation </sub> keeps, were accessed at a<b>&nbsp data </b><sub>  Asset </sub>- warehouse facility that stores and sells the information. The records included names, addresses, and Social Security and driver 's license numbers, but not credit history, medical records or financial information, Reed Elsevier said in a statement. \n",
       "<span style=\"background-color:#cedde2\"> A Federal Bureau of Investigation spokesman said the FBI was looking into the<b>&nbsp security_breach </b><sub>  Breach </sub> but had no details about the level of the agency 's involvement.</span> A secret_service spokesman said the agency was investigating. \n",
       " Boca Raton, Fla.-based Seisint, which was bought by Reed Elsevier last August and integrated into the company 's LexisNexis unit, stores millions of personal records, including information on bankruptcies, corporate affiliation, driver 's licenses, neighbors and criminal records. The company said that intruders used log- ins and<b>&nbsp passwords </b><sub>  Password </sub> of a handful of legitimate<b>&nbsp customers </b><sub>  User </sub> to get access to a Seisint database called Accurint, which sells reports to a wide variety of customers, including law- enforcement_agencies and businesses. The kind of information stored in Accurint includes social_security_numbers, past addresses, dates of birth and voter registration information, including party affiliations. \n",
       " Data brokers such as Seisint, ChoicePoint and others buy their<b>&nbsp data </b><sub>  Asset </sub> from<b>&nbsp private </b><sub>  Privacy </sub> sources such as the major credit bureaus, and collect government records from courts, property records offices and, in some states, driver 's license bureaus. Such<b>&nbsp companies </b><sub>  Organisation </sub> also may buy<b>&nbsp databases </b><sub>  Asset </sub> from marketing<b>&nbsp companies </b><sub>  Organisation </sub>, some retailers and<b>&nbsp data </b><sub>  Asset </sub> compilers, including those that gather product registration cards when new goods are purchased. \n",
       " The London- based publisher said it is notifying any people affected by the LexisNexis breach, asking them to check credit- card bills for any unauthorized charges. \n",
       "\" Of millions and millions of records, this is just a small percentage,\" said Catherine May, a spokeswoman for Reed Elsevier.\" We have taken swift action, informing those users and taking immediate measures to address security issues.\" \n",
       " Reed Elsevier said it discovered the problem at LexisNexis after a customer complained of a billing discrepancy, and the company 's<b>&nbsp investigation </b><sub>  Protection </sub> revealed that third parties had stolen<b>&nbsp passwords </b><sub>  Password </sub> from legitimate<b>&nbsp customers </b><sub>  User </sub>. \n",
       " Vermont Sen. Patrick Leahy, the ranking Democrat on the Senate Judiciary Committee, called the breach of LexisNexis information\" chilling.\" \n",
       " Mr. Leahy, who is scheduled to testify today before the Senate Banking Committee on<b>&nbsp privacy </b><sub>  Privacy </sub> violations involving personal and financial<b>&nbsp data </b><sub>  Asset </sub>, called for an audit of the security arrangements that federal agencies have with data brokers for\" the databanks they manage for the federal government.\" \n",
       "<span style=\"background-color:#cedde2\"> Reed Elsevier said the<b>&nbsp security_breach </b><sub>  Breach </sub> would n't affect its long- term financial forecasts.</span> The company acquired LexisNexis when it purchased Seisint for $ 745 million. Seisint contributes about 1% of Reed Elsevier 's total revenue, which was GBP 4.81 billion( $ 9.28 billion) in 2004. \n",
       "--- \n",
       " Gary Fields and Evan Perez contributed to this article.<h2>Document 2</h2> Note: See related articles starting on pages 32, 35, 37, 45, 48, 50, 52, 54, 57, 59, 60, 62, 64 and 65. \n",
       " Laserlike Focus \n",
       " For the second year in a row, Kaspersky Lab stepped up to take another first in the ARC category of<b>&nbsp Client </b><sub>  User </sub><b>&nbsp security_software </b><sub>  Security Software </sub>. \n",
       " Partners surveyed indicated that one of Kaspersky 's biggest strengths is its products. Kaspersky Lab partners ranked the Moscow- based company an overall 90.5 in richness of product features and functionality, and a 90.3 in the area of<b>&nbsp technical </b><sub>  Technology </sub> innovation. The<b>&nbsp company </b><sub>  Organisation </sub> also landed a score of 98.6 in product quality and reliability, seconded only in that criteria by Sophos. \n",
       " During the past five years, Kaspersky has retained a laserlike focus on its core competencies of<b>&nbsp antivirus </b><sub>  Anti-Malware </sub> and antimalware, which has continued to give the company its competitive edge, partners said. \n",
       "\" Their CEO and founder is focused on delivering the best[<b>&nbsp antivirus </b><sub>  Anti-Malware </sub>] and antimalware out there,\" said Jason Goelde, CEO of Troy, Mich.-based MBM Computer System Solutions. \n",
       " Meanwhile, executives said that one of the biggest reasons partners stay with Kaspersky for the long haul is because of an unwavering focus on its core channel objectives since its inception. \n",
       "\"[ The ARC scores] give us some real things to be proud of,\" said Steve Orenberg, president of Kaspersky Lab for the Americas.\" We 've set the bar pretty high for<b>&nbsp ourselves </b><sub>  Pronoun1 </sub>.\" \n",
       "--- \n",
       "<b>&nbsp Client </b><sub>  User </sub><b>&nbsp security_software </b><sub>  Security Software </sub> \n",
       "<b>&nbsp Company </b><sub>  Organisation </sub> Kaspersky Lab \n",
       " Rank 2009 1 \n",
       " Rank 2008 1 \n",
       " Product Innovation Subcategory Average 87 \n",
       " Support Subcategory Average 78 \n",
       " Partnership Subcategory Average 82.3 \n",
       " Weighted Total 83 \n",
       " Company Sophos \n",
       " Rank 2009 2 \n",
       " Rank 2008 2( Tie) \n",
       " Product Innovation Subcategory Average 87 \n",
       " Support Subcategory Average 78 \n",
       " Partnership Subcategory Average 81.5 \n",
       " Weighted Total 82 \n",
       " Company Symantec \n",
       " Rank 2009 3 \n",
       " Rank 2008 6 \n",
       " Product Innovation Subcategory Average 79 \n",
       " Support Subcategory Average 70 \n",
       " Partnership Subcategory Average 75.8 \n",
       " Weighted Total 75 \n",
       " Company Trend Micro \n",
       " Rank 2009 4 \n",
       " Rank 2008 2( Tie) \n",
       " Product Innovation Subcategory Average 78 \n",
       " Support Subcategory Average 67 \n",
       " Partnership Subcategory Average 70.4 \n",
       " Weighted Total 72 \n",
       " Company McAfee \n",
       " Rank 2009 5 \n",
       " Rank 2008** \n",
       " Product Innovation Subcategory Average 74 \n",
       " Support Subcategory Average 60 \n",
       " Partnership Subcategory Average 62.5 \n",
       " Weighted Total 66 \n",
       " Company CA \n",
       " Rank 2009 6 \n",
       " Rank 2008 5 \n",
       " Product Innovation Subcategory Average 58 \n",
       " Support Subcategory Average 52 \n",
       " Partnership Subcategory Average 53 \n",
       " Weighted Total 55 \n",
       " Company Category \n",
       " Product Innovation Subcategory Average 77 \n",
       " Support Subcategory Average 67 \n",
       " Partnership Subcategory Average 70.9 \n",
       " Weighted Total 72 \n",
       " www.crn.com \n",
       " Credit: Stefanie Hoffman"
      ],
      "text/plain": [
       "<IPython.core.display.HTML object>"
      ]
     },
     "metadata": {},
     "output_type": "display_data"
    }
   ],
   "source": [
    "tacs_query(data[:3], 'tttp', fulldoc=True, save_data=False, annot='html', show_annot = True, custom=False, level='concept', context=True)\n"
   ]
  },
  {
   "cell_type": "markdown",
   "metadata": {},
   "source": [
    "<br>\n",
    "<br>\n",
    "<br>\n",
    "<br>\n",
    "<br>\n",
    "<br>\n",
    "<br>\n",
    "<br>\n",
    "<br>\n",
    "<br>\n",
    "<br>\n",
    "<br>\n",
    "\n",
    "## Co-occurrence"
   ]
  },
  {
   "cell_type": "markdown",
   "metadata": {},
   "source": [
    "In this example, the tokens function is used to select only words and phrases, which appear near TACS terms. The topic model and visualisation are performed by the external libraries `gensim` and `pyLDAvis`."
   ]
  },
  {
   "cell_type": "code",
   "execution_count": null,
   "metadata": {},
   "outputs": [],
   "source": [
    "dat = data[data.corpuscat == \"cs media newspapers\"].text\n",
    "tokdocs = tacs_tokens(tacs_tag(dat), level='concept',show=True, cs_only=True, topic_window=8,\n",
    "                                             remove_stops = True, trim_extremes=True)\n",
    "quicktm(tokdocs, num_topics = 10)"
   ]
  },
  {
   "cell_type": "markdown",
   "metadata": {},
   "source": [
    "## Queries"
   ]
  },
  {
   "cell_type": "code",
   "execution_count": null,
   "metadata": {},
   "outputs": [],
   "source": [
    "q = 'Mobile Device'\n",
    "kwic([tok for doc in tacs_tag(dat) for tok in doc],q,2)"
   ]
  },
  {
   "cell_type": "markdown",
   "metadata": {},
   "source": [
    "---"
   ]
  },
  {
   "cell_type": "markdown",
   "metadata": {},
   "source": [
    "> ### TODO\n",
    "> - make counting work without notebook? simple interface--> link to folder, saves count table in folder? \n",
    ">\n",
    "> #### Fixes\n",
    "> - improve accuracy\n",
    "> - spacy tagging\n",
    "> - do without textacy and trasnf()\n",
    "> - rewrite summarise (): same as vis() incoprorate, grpsummary()\n",
    "> - fix aggr=each\n",
    ">\n",
    "> #### TM\n",
    "> - allocate topics to documents\n",
    ">\n",
    "> #### Queries / Object-centred\n",
    "> - rewrite: input should be query, such as ((concept & concept)|concept)\n",
    "> - better/slower version would be with sentences--spacy (or nltk if faster?)\n",
    ">     - `doc > sent > tok` structure and rewrite all functions to work with it?\n",
    "> - incorporate render(); different output options\n",
    "> - use spacy to get s-v-o and q\n",
    "> - use spacy to get full sentences\n"
   ]
  },
  {
   "cell_type": "markdown",
   "metadata": {},
   "source": [
    "-----------\n",
    "# Supplementary / Under the hood "
   ]
  },
  {
   "cell_type": "markdown",
   "metadata": {},
   "source": [
    "## Tagging"
   ]
  },
  {
   "cell_type": "code",
   "execution_count": null,
   "metadata": {},
   "outputs": [],
   "source": [
    "sample['tokdocs'] = tacs_tag(sample.text)\n",
    "sample['tokdocs_tacsonly'] = tacs_tag(sample.text, tacs_only=True)"
   ]
  },
  {
   "cell_type": "code",
   "execution_count": null,
   "metadata": {},
   "outputs": [],
   "source": [
    "tagdemo = pd.DataFrame()\n",
    "tagdemo['text'] = [sample.text[2][:600]]\n",
    "tagdemo['tokdocs'] = [sample.tokdocs[2][:150]]\n",
    "tagdemo['tokdocs_tacsonly'] = [sample.tokdocs_tacsonly[2][:100]]"
   ]
  },
  {
   "cell_type": "code",
   "execution_count": null,
   "metadata": {
    "scrolled": false
   },
   "outputs": [],
   "source": [
    "tagdemo.style.set_properties(**{'text-align': 'left'})"
   ]
  },
  {
   "cell_type": "markdown",
   "metadata": {},
   "source": [
    "## Token Actions"
   ]
  },
  {
   "cell_type": "code",
   "execution_count": null,
   "metadata": {},
   "outputs": [],
   "source": [
    "tokdemo = pd.DataFrame()\n",
    "tokdemo['tokdocs'] = [sample.tokdocs_tacsonly[0][:100]]\n",
    "tokdemo['tokdocs_to_concepts'] = [tacs_tokens(sample.tokdocs_tacsonly, level='concept',show=True)[0][:100]]\n",
    "tokdemo['tokdocs_to_cats'] = [tacs_tokens(sample.tokdocs_tacsonly, level='category',show=True)[0][:100]]\n",
    "tokdemo['tokdocs_concepts'] = [tacs_tokens(sample.tokdocs, level='concept',show=True, cs_only=False, \n",
    "                                             remove_stops = False, trim_extremes=False)[0][:100]]\n",
    "tokdemo['tokdocs_trimtopic'] = [tacs_tokens(sample.tokdocs, level='concept',show=True, cs_only=True,\n",
    "                                            topic_window=10,\n",
    "                                             remove_stops = False, trim_extremes=False)[0][:100]]\n",
    "tokdemo['tokdocs_trimtopic'] = [tacs_tokens(sample.tokdocs, level='concept',show=True, cs_only=True,\n",
    "                                            topic_window=3,\n",
    "                                             remove_stops = False, trim_extremes=False)[0][:100]]\n",
    "\n"
   ]
  },
  {
   "cell_type": "code",
   "execution_count": null,
   "metadata": {
    "scrolled": false
   },
   "outputs": [],
   "source": [
    "tokdemo.style.set_properties(**{'text-align': 'left'})"
   ]
  },
  {
   "cell_type": "markdown",
   "metadata": {},
   "source": [
    "---"
   ]
  }
 ],
 "metadata": {
  "kernelspec": {
   "display_name": "Python 3",
   "language": "python",
   "name": "python3"
  },
  "language_info": {
   "codemirror_mode": {
    "name": "ipython",
    "version": 3
   },
   "file_extension": ".py",
   "mimetype": "text/x-python",
   "name": "python",
   "nbconvert_exporter": "python",
   "pygments_lexer": "ipython3",
   "version": "3.7.3"
  },
  "toc": {
   "base_numbering": 1,
   "nav_menu": {},
   "number_sections": false,
   "sideBar": true,
   "skip_h1_title": false,
   "title_cell": "Table of Contents",
   "title_sidebar": "Contents",
   "toc_cell": false,
   "toc_position": {
    "height": "calc(100% - 180px)",
    "left": "10px",
    "top": "150px",
    "width": "260.65625px"
   },
   "toc_section_display": true,
   "toc_window_display": true
  }
 },
 "nbformat": 4,
 "nbformat_minor": 2
}
