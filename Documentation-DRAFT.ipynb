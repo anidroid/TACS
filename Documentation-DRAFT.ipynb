{
 "cells": [
  {
   "cell_type": "markdown",
   "metadata": {},
   "source": [
    "# TACS: Documentation"
   ]
  },
  {
   "cell_type": "markdown",
   "metadata": {},
   "source": [
    "## Installation"
   ]
  },
  {
   "cell_type": "markdown",
   "metadata": {},
   "source": [
    "TACS consists of two files:\n",
    "- `csd.csv`: Dictionary data with one Term per row, categories it belongs to as columns, individual lexemes listed in a single string.\n",
    "- `tacs.py`: A python file with functions to compile and use the dictionary from the Dictionary data.\n",
    "\n",
    "Running TACS requires [`Python`](https://wiki.python.org/moin/BeginnersGuide/Download) and the libraries [`pandas`](https://pandas.pydata.org/getting_started.html) and [`spacy`](https://spacy.io/usage). Visualisations require `Jupyter Notebook`. With all required packages installed, download the files `tacs.py` and `csd.csv` and run `tacs.py` in a desired Python application."
   ]
  },
  {
   "cell_type": "code",
   "execution_count": 16,
   "metadata": {},
   "outputs": [],
   "source": [
    "%run tacs.py"
   ]
  },
  {
   "cell_type": "markdown",
   "metadata": {},
   "source": [
    "## Introduction"
   ]
  },
  {
   "cell_type": "markdown",
   "metadata": {},
   "source": [
    "### Framework\n",
    "\n",
    "The dictionary consists of words and phrases (**Lexemes**). At the lowest level, lexical variants (_pass phrase_ and _password_) or very similar in meaning (_security gap_ and _secuirty hole_) are grouped into **Terms**. Each term is assigned to 1 of 4 **Domains**: Cyber Security (e.g. _hacker, password_), Security (e.g., _safety, danger_), Cyber (e.g., _mobile phone, user_), and General (_company, child_). Terms are further grouped into the broader **Concepts** to which they relate (e.g., the **Terms** _Exploit_ and _Security Flaw_ are grouped under the **Concept** _Vulnerability_. Concepts are assigned to 1 of several categories, nested within 2 over-arching dimensions--Security and Context--which can be thought of as separate dictionaries. The **Security Categories** are: 'Cybersecurity', 'Security Actor', 'Security General','Security Mechanism','Threat Actor','Threat General','Threat Mechanism'. The **Context Categories** are: 'Activity', 'Cyber Entity', 'Individual', 'Org', 'Quality'. \n",
    "\n",
    "The `tacs_show()` function with the `out='vis'` option can be used to visualise the framework as an interactive sunburst diagram in a Jupyter Notebook. The option `out='table'` produces a table with custom level. If `level='category'` is selected, the table shows one category per row, with concepts and their domains listed in a string. If `level='concept'`, each concept is displayed followed by a string of terms."
   ]
  },
  {
   "cell_type": "code",
   "execution_count": null,
   "metadata": {},
   "outputs": [],
   "source": [
    "tacs_show(context=True, out='vis')"
   ]
  },
  {
   "cell_type": "code",
   "execution_count": 3,
   "metadata": {
    "scrolled": true
   },
   "outputs": [
    {
     "data": {
      "text/html": [
       "<div>\n",
       "<style scoped>\n",
       "    .dataframe tbody tr th:only-of-type {\n",
       "        vertical-align: middle;\n",
       "    }\n",
       "\n",
       "    .dataframe tbody tr th {\n",
       "        vertical-align: top;\n",
       "    }\n",
       "\n",
       "    .dataframe thead th {\n",
       "        text-align: right;\n",
       "    }\n",
       "</style>\n",
       "<table border=\"1\" class=\"dataframe\">\n",
       "  <thead>\n",
       "    <tr style=\"text-align: right;\">\n",
       "      <th></th>\n",
       "      <th></th>\n",
       "      <th>concept_domain</th>\n",
       "    </tr>\n",
       "    <tr>\n",
       "      <th>dict</th>\n",
       "      <th>cat</th>\n",
       "      <th></th>\n",
       "    </tr>\n",
       "  </thead>\n",
       "  <tbody>\n",
       "    <tr>\n",
       "      <th rowspan=\"7\" valign=\"top\">Security</th>\n",
       "      <th>Threat Mechanism</th>\n",
       "      <td>Vulnerability(S), Vulnerability(CS), Misc Thre...</td>\n",
       "    </tr>\n",
       "    <tr>\n",
       "      <th>Threat General</th>\n",
       "      <td>Harm(S), Crime(S), Threat(S), Risk(CS), Risk(S...</td>\n",
       "    </tr>\n",
       "    <tr>\n",
       "      <th>Threat Actor</th>\n",
       "      <td>Hacker(CS), Criminal(S), Attacker(S)</td>\n",
       "    </tr>\n",
       "    <tr>\n",
       "      <th>Security Mechanism</th>\n",
       "      <td>Updates(G), Updates(CS), Updates(S), Training(...</td>\n",
       "    </tr>\n",
       "    <tr>\n",
       "      <th>Security General</th>\n",
       "      <td>Resilience(S), Confidentiality(S), Authenticit...</td>\n",
       "    </tr>\n",
       "    <tr>\n",
       "      <th>Security Actor</th>\n",
       "      <td>Security Expert(CS), Security Expert(S), Secur...</td>\n",
       "    </tr>\n",
       "    <tr>\n",
       "      <th>Cybersecurity</th>\n",
       "      <td>Cybersecurity(CS), Cybersecurity(S)</td>\n",
       "    </tr>\n",
       "    <tr>\n",
       "      <th rowspan=\"5\" valign=\"top\">Context</th>\n",
       "      <th>Quality</th>\n",
       "      <td>Positive(S), Positive(G), Negative(G)</td>\n",
       "    </tr>\n",
       "    <tr>\n",
       "      <th>Org</th>\n",
       "      <td>Tech(C), Organisation(S), Medical(S), Law &amp; Or...</td>\n",
       "    </tr>\n",
       "    <tr>\n",
       "      <th>Individual</th>\n",
       "      <td>User(C), User(G), Relationship(G), Pronoun3(G)...</td>\n",
       "    </tr>\n",
       "    <tr>\n",
       "      <th>Cyber Entity</th>\n",
       "      <td>Technology(C), Software(C), Network(C), Mobile...</td>\n",
       "    </tr>\n",
       "    <tr>\n",
       "      <th>Activity</th>\n",
       "      <td>UI(C), Sharing(C), Political(C), Financial(C),...</td>\n",
       "    </tr>\n",
       "  </tbody>\n",
       "</table>\n",
       "</div>"
      ],
      "text/plain": [
       "                                                                concept_domain\n",
       "dict     cat                                                                  \n",
       "Security Threat Mechanism    Vulnerability(S), Vulnerability(CS), Misc Thre...\n",
       "         Threat General      Harm(S), Crime(S), Threat(S), Risk(CS), Risk(S...\n",
       "         Threat Actor                     Hacker(CS), Criminal(S), Attacker(S)\n",
       "         Security Mechanism  Updates(G), Updates(CS), Updates(S), Training(...\n",
       "         Security General    Resilience(S), Confidentiality(S), Authenticit...\n",
       "         Security Actor      Security Expert(CS), Security Expert(S), Secur...\n",
       "         Cybersecurity                     Cybersecurity(CS), Cybersecurity(S)\n",
       "Context  Quality                         Positive(S), Positive(G), Negative(G)\n",
       "         Org                 Tech(C), Organisation(S), Medical(S), Law & Or...\n",
       "         Individual          User(C), User(G), Relationship(G), Pronoun3(G)...\n",
       "         Cyber Entity        Technology(C), Software(C), Network(C), Mobile...\n",
       "         Activity            UI(C), Sharing(C), Political(C), Financial(C),..."
      ]
     },
     "execution_count": 3,
     "metadata": {},
     "output_type": "execute_result"
    }
   ],
   "source": [
    "tacs_show('table',level='cat')"
   ]
  },
  {
   "cell_type": "markdown",
   "metadata": {},
   "source": [
    "## Data"
   ]
  },
  {
   "cell_type": "markdown",
   "metadata": {},
   "source": [
    "TACS operates on text documents, which can be supplied to its functions as: a string, a list of strings, a table (dataframe) with text-column (labelled `text`, unless a custom label is specified via the `textcol` parameter. The final version should also be able to import documents (.txt, .docx, .pdf) directly from a specified folder path. "
   ]
  },
  {
   "cell_type": "code",
   "execution_count": 8,
   "metadata": {},
   "outputs": [],
   "source": [
    "data = pd.read_csv('demodata.csv','rb')"
   ]
  },
  {
   "cell_type": "markdown",
   "metadata": {},
   "source": [
    "## Tagging & Tokenisation\n",
    "\n",
    "The first step in all TACS operations is to preprocess and tag the documents. During this step, documents are segmented into individual units called tokens (words, phrases, punctuation marks, etc.) using `spacy`. A spacy document is a list of tokens, which have various attributes (e.g., part-of-speach tags `tok.pos_`, lemmatised versions `tok.lemma_`). TACS categories are specified in a custom attribute `._.csd`. \n",
    "\n",
    "Tagging is performed using the `tacs_tag()` function. This is the slowest process in TACS and it is therefore recommended to call the tagging function once on all documents, save the output as a separate object (e.g., `tokdocs`) or a column in the dataframe, and use it as input for the remaining TACS functions.\n",
    "\n",
    "The remaining TACS functions will first check whether the data provided as input contains documents that are already tagged. If not, the function will look for full-text documents and process them (this will take time). \n",
    "\n",
    "### Context-aware tagging\n",
    "\n",
    "The function attempts to tag non-cybersecurity terms only if they appear in the context/vicinity of cybersecurity. Currently, context is determined by a simple rule: A non-cs term is only tagged if its `n` neighbouring terms contain one cybersecurity term or (one cyber and one security term) `cs|(c&s)`. \n",
    "\n",
    "Context-aware tagging can be disabled or adjusted with the following parameters:\n",
    "- `context_rule`: Default is `cs|(c&s)`: tag word if nearby terms include at least one cyber-security word or one cyber and one security word. The default rule can be replaced with a more conservative version where neighbours must include a cybersecurity term `c&s`. `False` to disable altogether: every dictionary lexeme is tagged regardless of context.\n",
    "- `context_window=10`: Specifies the number of neightbouring terms taken into account by the context rule.\n",
    "\n",
    "#### Illustration of TACS tagging"
   ]
  },
  {
   "cell_type": "code",
   "execution_count": 18,
   "metadata": {
    "scrolled": true
   },
   "outputs": [
    {
     "data": {
      "text/plain": [
       "[(the, 'None'),\n",
       " (boy, 'c_ind_ind_boy_dg'),\n",
       " (is, 'None'),\n",
       " (bullied, 's_tttp_bulli_bullying_ds'),\n",
       " (online, 'c_cy_int_online_dc')]"
      ]
     },
     "execution_count": 18,
     "metadata": {},
     "output_type": "execute_result"
    }
   ],
   "source": [
    "doc = tacs_tag('the boy is bullied online')\n",
    "[(tok,tok._.csd) for tok in doc]"
   ]
  },
  {
   "cell_type": "markdown",
   "metadata": {},
   "source": [
    "#### Note the parameters and output in the following examples:\n",
    "\n",
    "The examples are using the tacs annotate function, which is described in a subsequent section. Interesting here is to note the differences in tagging that result from the different parameters."
   ]
  },
  {
   "cell_type": "code",
   "execution_count": 6,
   "metadata": {
    "scrolled": true
   },
   "outputs": [
    {
     "data": {
      "text/html": [
       "<style>.tacstok{font-weight:bold}</style> the<span class=\"tacstok\">&nbsp boy </span><sub>  Individual  </sub>&nbsp is<span class=\"tacstok\">&nbsp bullied </span><sub>  Cyberbullying  </sub>&nbsp<span class=\"tacstok\">&nbsp online </span><sub>  Internet  </sub>&nbsp"
      ],
      "text/plain": [
       "<IPython.core.display.HTML object>"
      ]
     },
     "metadata": {},
     "output_type": "display_data"
    },
    {
     "data": {
      "text/html": [
       "<style>.tacstok{font-weight:bold}</style> the boy is bullied in school"
      ],
      "text/plain": [
       "<IPython.core.display.HTML object>"
      ]
     },
     "metadata": {},
     "output_type": "display_data"
    },
    {
     "data": {
      "text/html": [
       "<style>.tacstok{font-weight:bold}</style> the boy is shopping in school"
      ],
      "text/plain": [
       "<IPython.core.display.HTML object>"
      ]
     },
     "metadata": {},
     "output_type": "display_data"
    }
   ],
   "source": [
    "tacs_annotate_doc(tacs_tag('the boy is bullied online'),render=True)\n",
    "tacs_annotate_doc(tacs_tag('the boy is bullied in school'),render=True)\n",
    "tacs_annotate_doc(tacs_tag('the boy is shopping in school'),render=True)"
   ]
  },
  {
   "cell_type": "code",
   "execution_count": 7,
   "metadata": {
    "scrolled": false
   },
   "outputs": [
    {
     "data": {
      "text/html": [
       "<style>.tacstok{font-weight:bold}</style> the<span class=\"tacstok\">&nbsp boy </span><sub>  Individual  </sub>&nbsp is<span class=\"tacstok\">&nbsp shopping </span><sub>  Financial  </sub>&nbsp<span class=\"tacstok\">&nbsp online </span><sub>  Internet  </sub>&nbsp"
      ],
      "text/plain": [
       "<IPython.core.display.HTML object>"
      ]
     },
     "metadata": {},
     "output_type": "display_data"
    },
    {
     "data": {
      "text/html": [
       "<style>.tacstok{font-weight:bold}</style> the boy is shopping online"
      ],
      "text/plain": [
       "<IPython.core.display.HTML object>"
      ]
     },
     "metadata": {},
     "output_type": "display_data"
    },
    {
     "data": {
      "text/html": [
       "<style>.tacstok{font-weight:bold}</style> the<span class=\"tacstok\">&nbsp boy </span><sub>  Individual  </sub>&nbsp is<span class=\"tacstok\">&nbsp shopping </span><sub>  Financial  </sub>&nbsp<span class=\"tacstok\">&nbsp online </span><sub>  Internet  </sub>&nbsp using a<span class=\"tacstok\">&nbsp password </span><sub>  Password  </sub>&nbsp"
      ],
      "text/plain": [
       "<IPython.core.display.HTML object>"
      ]
     },
     "metadata": {},
     "output_type": "display_data"
    },
    {
     "data": {
      "text/html": [
       "<style>.tacstok{font-weight:bold}</style> the boy is shopping<span class=\"tacstok\">&nbsp online </span><sub>  Internet  </sub>&nbsp using a<span class=\"tacstok\">&nbsp password </span><sub>  Password  </sub>&nbsp"
      ],
      "text/plain": [
       "<IPython.core.display.HTML object>"
      ]
     },
     "metadata": {},
     "output_type": "display_data"
    }
   ],
   "source": [
    "tacs_annotate_doc(tacs_tag('the boy is shopping online',context_rule=False),render=True)\n",
    "tacs_annotate_doc(tacs_tag('the boy is shopping online',context_rule='cs'),render=True)\n",
    "tacs_annotate_doc(tacs_tag('the boy is shopping online using a password',context_rule='cs'),render=True)\n",
    "tacs_annotate_doc(tacs_tag('the boy is shopping online using a password',context_rule='cs',context_window=4),render=True)"
   ]
  },
  {
   "cell_type": "markdown",
   "metadata": {},
   "source": [
    "#### Tagging all documents and saving the output in a column labelled `tacsdocs`"
   ]
  },
  {
   "cell_type": "code",
   "execution_count": 21,
   "metadata": {},
   "outputs": [],
   "source": [
    "data['tacsdocs'] = tacs_tag(data.text)"
   ]
  },
  {
   "cell_type": "markdown",
   "metadata": {},
   "source": [
    "## Counting"
   ]
  },
  {
   "cell_type": "markdown",
   "metadata": {},
   "source": [
    "The simplest form of analysis is counting the number of times TACS terms occur in text. The counting function provides the options to count Concepts or Categories, across all documents, in each document, or in specified groups of documents. \n",
    "\n",
    "**Grouping:** The function allows for 3 types of aggregation, specified via the `aggr` parameter: \n",
    "- `all` aggregates all documents and returns a single column for the entire dataset\n",
    "- `each` returns a single column per document\n",
    "- a custom grouping variable in the form of a list (corresponding to the lenght and order of documents) or the name of a column in the dataframe\n",
    "\n",
    "**Output**: Table with Dictionary Categories as rows and documents as columns. Option to aggregate dictionary levels (e.g., sum Concept counts into Categories). If counting across documents (`agg = 'all'`), the most frequent instances of the aggregated level (e.g., Terms if Concept counts are shown; Concepts for Categories) are included in the table as a string, with the option to include the frequency of each unit (`subcount=True`).\n",
    "\n",
    "**Parameters:**\n",
    "- `level`: Specifies whether to count Categories, Concepts or Terms. Default is Concept.\n",
    "- `aggr`: Specifies how to aggregate the documents, default is `all`.\n",
    "- `subcount`: "
   ]
  },
  {
   "cell_type": "code",
   "execution_count": null,
   "metadata": {},
   "outputs": [],
   "source": [
    "data['tokdocs'] = tacs_tag(data.text)"
   ]
  },
  {
   "cell_type": "code",
   "execution_count": null,
   "metadata": {
    "scrolled": true
   },
   "outputs": [],
   "source": [
    "tacs_count(data, level='concept', aggr='srctype', subcount = True)"
   ]
  },
  {
   "cell_type": "markdown",
   "metadata": {},
   "source": [
    "## Annotation"
   ]
  },
  {
   "cell_type": "markdown",
   "metadata": {},
   "source": [
    "Annotates documents such that TACS terms appear in bold, their TACS category as subscript. Annotated documents can be exported to a signle html file `save_annot=True` and/or displayed within a Jupyter Notebook `show_annot=True`. Currently, only HTML annotation is supported. Future versions can implement a DOCX variant."
   ]
  },
  {
   "cell_type": "code",
   "execution_count": 14,
   "metadata": {
    "scrolled": true
   },
   "outputs": [
    {
     "name": "stdout",
     "output_type": "stream",
     "text": [
      "Tagging documents. This might take a couple of minutes.\n"
     ]
    },
    {
     "data": {
      "text/html": [
       "<h2>Document 0</h2><style>.tacstok{font-weight:bold}</style>   WASHINGTON( AP)-- In the high- tech equivalent of a thief burglarizing<span class=\"tacstok\">&nbsp police </span><sub>  Law & Order  </sub>&nbsp headquarters, a<span class=\"tacstok\">&nbsp hacker </span><sub>  Hacker  </sub>&nbsp using an unusually clever tactic vandalized a prominent<span class=\"tacstok\">&nbsp internet_site </span><sub>  Internet  </sub>&nbsp devoted to<span class=\"tacstok\">&nbsp computer_security </span><sub>  Cybersecurity  </sub>&nbsp. \n",
       " The<span class=\"tacstok\">&nbsp electronic </span><sub>  Technology  </sub>&nbsp assault against the AntiOnline<span class=\"tacstok\">&nbsp site </span><sub>  Internet  </sub>&nbsp last week occurred days after other<span class=\"tacstok\">&nbsp hackers </span><sub>  Hacker  </sub>&nbsp altered the<span class=\"tacstok\">&nbsp web_site </span><sub>  Internet  </sub>&nbsp for Symantec Corp., whose software is used by millions of<span class=\"tacstok\">&nbsp consumers </span><sub>  User  </sub>&nbsp to<span class=\"tacstok\">&nbsp protect </span><sub>  Protection  </sub>&nbsp against<span class=\"tacstok\">&nbsp viruses </span><sub>  Malware  </sub>&nbsp and<span class=\"tacstok\">&nbsp electronic </span><sub>  Technology  </sub>&nbsp snoops. \n",
       " In the latest incident, a<span class=\"tacstok\">&nbsp hacker </span><sub>  Hacker  </sub>&nbsp using an<span class=\"tacstok\">&nbsp Internet </span><sub>  Internet  </sub>&nbsp account in Russia successfully tricked the site 's computer to load hidden software code from elsewhere onto one of its own Web pages, called\" Eye on the Underground.\" \n",
       " The site was fixed just over an hour later, but this week 's attacks raised questions about<span class=\"tacstok\">&nbsp internet_security </span><sub>  Cybersecurity  </sub>&nbsp: If<span class=\"tacstok\">&nbsp organizations </span><sub>  Organisation  </sub>&nbsp that clearly are aware of<span class=\"tacstok\">&nbsp potential </span><sub>  Negative  </sub>&nbsp security problems ca n't<span class=\"tacstok\">&nbsp protect </span><sub>  Protection  </sub>&nbsp their<span class=\"tacstok\">&nbsp sites </span><sub>  Internet  </sub>&nbsp, how can the rest of the Internet? \n",
       "\" There is no absolute security,\" said James Adams, chief executive of<span class=\"tacstok\">&nbsp Infrastructure </span><sub>  Asset  </sub>&nbsp<span class=\"tacstok\">&nbsp Defense </span><sub>  Protection  </sub>&nbsp Inc., which works to<span class=\"tacstok\">&nbsp protect </span><sub>  Protection  </sub>&nbsp<span class=\"tacstok\">&nbsp companies </span><sub>  Organisation  </sub>&nbsp against<span class=\"tacstok\">&nbsp hackers </span><sub>  Hacker  </sub>&nbsp.\" All<span class=\"tacstok\">&nbsp you </span><sub>  Pronoun1  </sub>&nbsp can do is try to keep ahead of the game. For anybody to claim they 're totally secure, it 's not true.\" \n",
       " Although the<span class=\"tacstok\">&nbsp hacker </span><sub>  Hacker  </sub>&nbsp never directly infiltrated AntiOnline 's<span class=\"tacstok\">&nbsp computers </span><sub>  Device  </sub>&nbsp, the hidden code redirected visitors to a Web page with the image of an unblinking eye along with the<span class=\"tacstok\">&nbsp message </span><sub>  Comm  </sub>&nbsp\" expensive<span class=\"tacstok\">&nbsp security_systems </span><sub>  Security Software  </sub>&nbsp do not<span class=\"tacstok\">&nbsp protect </span><sub>  Protection  </sub>&nbsp from stupidity.\" \n",
       "\" I would n't call it sophisticated, but I 'd call it clever,\" said John Vranesevich, who runs AntiOnline in Beaver, Pa. \n",
       " The affected AntiOnline page was designed to automatically collect and display messages posted to an online discussion group at another<span class=\"tacstok\">&nbsp internet_site </span><sub>  Internet  </sub>&nbsp popular among<span class=\"tacstok\">&nbsp hackers </span><sub>  Hacker  </sub>&nbsp. \n",
       " But someone using the<span class=\"tacstok\">&nbsp Internet </span><sub>  Internet  </sub>&nbsp account traced to Russia slipped hidden computer code into the text of one of those messages, which was then automatically loaded onto AntiOnline 's site and sabotaged it. \n",
       " Mr. Adams said<span class=\"tacstok\">&nbsp web_sites </span><sub>  Internet  </sub>&nbsp specializing in<span class=\"tacstok\">&nbsp computer_security </span><sub>  Cybersecurity  </sub>&nbsp need to take greater precautions because successful attacks against these computers can carry greater glory among the underground-<span class=\"tacstok\">&nbsp hacking </span><sub>  Hacking  </sub>&nbsp community.\" There are brownie points to be gained,\" Mr. Adams said. \n",
       "\" Do we need better education? Yes,\" said Russ Cooper of NTBugtraq, a popular<span class=\"tacstok\">&nbsp Internet </span><sub>  Internet  </sub>&nbsp discussion group about<span class=\"tacstok\">&nbsp computer_security </span><sub>  Cybersecurity  </sub>&nbsp.\" Do<span class=\"tacstok\">&nbsp we </span><sub>  Pronoun1  </sub>&nbsp need better tools? Yes. Does that mean I 'm never going to suffer an attack? No. \n",
       "\" There is n't a piece of software you double-<span class=\"tacstok\">&nbsp click </span><sub>  UI  </sub>&nbsp to set up and it 's<span class=\"tacstok\">&nbsp secure </span><sub>  Protection  </sub>&nbsp,\" he said.\" You have to have staff and policy, and you have to have monitoring.\" \n",
       " Mr. Vranesevich, who was demonized by some<span class=\"tacstok\">&nbsp hackers </span><sub>  Hacker  </sub>&nbsp when<span class=\"tacstok\">&nbsp he </span><sub>  Pronoun1  </sub>&nbsp announced over the summer that AntiOnline would help<span class=\"tacstok\">&nbsp authorities </span><sub>  Gov  </sub>&nbsp trace and prosecute<span class=\"tacstok\">&nbsp computer </span><sub>  Device  </sub>&nbsp attacks, noted that other<span class=\"tacstok\">&nbsp web_site </span><sub>  Internet  </sub>&nbsp operators were n't as<span class=\"tacstok\">&nbsp vulnerable </span><sub>  Insecure  </sub>&nbsp to the same technique that affected<span class=\"tacstok\">&nbsp his </span><sub>  Pronoun1  </sub>&nbsp<span class=\"tacstok\">&nbsp site </span><sub>  Internet  </sub>&nbsp. \n",
       "\" We sort of caused it ourselves,\"<span class=\"tacstok\">&nbsp he </span><sub>  Pronoun1  </sub>&nbsp said.\"<span class=\"tacstok\">&nbsp We </span><sub>  Pronoun1  </sub>&nbsp visit the<span class=\"tacstok\">&nbsp hacker </span><sub>  Hacker  </sub>&nbsp<span class=\"tacstok\">&nbsp sites </span><sub>  Internet  </sub>&nbsp dynamically, and that is the type of scenario your average system_administrator probably would n't encounter. We 're doing things far more obscure.\" \n",
       "\n",
       "<h2>Document 1</h2><style>.tacstok{font-weight:bold}</style> Headnote Creative and comprehensive ways to meet security needs. \n",
       " In the coming months, healthcare<span class=\"tacstok\">&nbsp organizations </span><sub>  Organisation  </sub>&nbsp are required to implement strong<span class=\"tacstok\">&nbsp data_security </span><sub>  Cybersecurity  </sub>&nbsp mechanisms to comply with the Health<span class=\"tacstok\">&nbsp Insurance </span><sub>  Regulatory  </sub>&nbsp Portability and Accountability Act( HIPAA). From a business perspective, these<span class=\"tacstok\">&nbsp organizations </span><sub>  Organisation  </sub>&nbsp must also choose an<span class=\"tacstok\">&nbsp information_security </span><sub>  Cybersecurity  </sub>&nbsp and<span class=\"tacstok\">&nbsp user </span><sub>  User  </sub>&nbsp<span class=\"tacstok\">&nbsp authentication </span><sub>  Access Control  </sub>&nbsp method that provides interoperability, scalability and ease of implementation. \n",
       " One alternative for<span class=\"tacstok\">&nbsp user </span><sub>  User  </sub>&nbsp<span class=\"tacstok\">&nbsp authentication </span><sub>  Access Control  </sub>&nbsp is biometrics, although it does n't allow users to digitally\" sign\" documents, making biometric<span class=\"tacstok\">&nbsp devices </span><sub>  Device  </sub>&nbsp insufficient for allowing<span class=\"tacstok\">&nbsp organizations </span><sub>  Organisation  </sub>&nbsp to attach nonrefutable signatures to<span class=\"tacstok\">&nbsp electronic </span><sub>  Technology  </sub>&nbsp transactions and<span class=\"tacstok\">&nbsp sensitive </span><sub>  Positive  </sub>&nbsp<span class=\"tacstok\">&nbsp emails </span><sub>  Comm  </sub>&nbsp. Also, biometrics works best in controlled IT environments, such as LANs, because of the special<span class=\"tacstok\">&nbsp hardware </span><sub>  Technology  </sub>&nbsp needed for biometric<span class=\"tacstok\">&nbsp authentication </span><sub>  Access Control  </sub>&nbsp systems, which become unmanageable when transacting with external users( outside the<span class=\"tacstok\">&nbsp LAN </span><sub>  Internet  </sub>&nbsp). \n",
       "<span class=\"tacstok\">&nbsp Organizations </span><sub>  Organisation  </sub>&nbsp need easy- to- deploy<span class=\"tacstok\">&nbsp software </span><sub>  Software  </sub>&nbsp that gives them the<span class=\"tacstok\">&nbsp authentication </span><sub>  Access Control  </sub>&nbsp power of biometrics combined with a<span class=\"tacstok\">&nbsp digital_signature </span><sub>  Access Control  </sub>&nbsp capability. \n",
       "<span class=\"tacstok\">&nbsp public_key_infrastructure </span><sub>  Access Control  </sub>&nbsp( PKI) is a system where a person 's<span class=\"tacstok\">&nbsp online </span><sub>  Internet  </sub>&nbsp identity is validated by a<span class=\"tacstok\">&nbsp digital_certificate </span><sub>  Access Control  </sub>&nbsp. Within the healthcare arena,<span class=\"tacstok\">&nbsp certificates </span><sub>  Access Control  </sub>&nbsp can be issued to healthcare professionals and plan members through a healthcare organization 's certificate authority( CA), which determines who should receive a certificate, for how long the certificate will remain active, and what access privileges that certificate holder is authorized to have. \n",
       " Certificates are then presented as proof of identity to reliant applications before access is granted to authorized information. These same<span class=\"tacstok\">&nbsp digital_certificates </span><sub>  Access Control  </sub>&nbsp can be used to generate<span class=\"tacstok\">&nbsp digital_signatures </span><sub>  Access Control  </sub>&nbsp. Depending on an<span class=\"tacstok\">&nbsp organization </span><sub>  Organisation  </sub>&nbsp 's needs, a PKI can also be run via an<span class=\"tacstok\">&nbsp application </span><sub>  Software  </sub>&nbsp<span class=\"tacstok\">&nbsp service_provider </span><sub>  Work Role  </sub>&nbsp( ASP), which allows healthcare organizes tions to quickly establish a strong<span class=\"tacstok\">&nbsp authentication </span><sub>  Access Control  </sub>&nbsp<span class=\"tacstok\">&nbsp security_system </span><sub>  Security Software  </sub>&nbsp without having to purchase and manage the<span class=\"tacstok\">&nbsp software </span><sub>  Software  </sub>&nbsp themselves. \n",
       "<span class=\"tacstok\">&nbsp Risk </span><sub>  Risk  </sub>&nbsp of<span class=\"tacstok\">&nbsp Data </span><sub>  Asset  </sub>&nbsp Theft \n",
       " Health<span class=\"tacstok\">&nbsp data </span><sub>  Asset  </sub>&nbsp is becoming more Internet-<span class=\"tacstok\">&nbsp browser </span><sub>  Internet  </sub>&nbsp- accessible, and therefore healthcare<span class=\"tacstok\">&nbsp organizations </span><sub>  Organisation  </sub>&nbsp and patients are becoming increasingly susceptible to<span class=\"tacstok\">&nbsp data </span><sub>  Asset  </sub>&nbsp theft and prying eyes. Compounding this<span class=\"tacstok\">&nbsp threat </span><sub>  Threat  </sub>&nbsp is the advent of Internetbased consultation, which entails sending<span class=\"tacstok\">&nbsp sensitive </span><sub>  Positive  </sub>&nbsp medical information over the<span class=\"tacstok\">&nbsp Internet </span><sub>  Internet  </sub>&nbsp via e- mail and web_services. Unfortunately, e-<span class=\"tacstok\">&nbsp mail </span><sub>  Comm  </sub>&nbsp can be<span class=\"tacstok\">&nbsp insecure </span><sub>  Insecure  </sub>&nbsp and intentionally or unintentionally intercepted, incorrectly routed, or even worse, altered en route by a third party and ushered on to the unsuspecting recipient. \n",
       " In a similar vein, as patient- identifiable health_information is posted on websites or stored in databases for access by remote users,<span class=\"tacstok\">&nbsp people </span><sub>  Individual  </sub>&nbsp trying to gain illegal access to<span class=\"tacstok\">&nbsp confidential </span><sub>  Authenticity  </sub>&nbsp<span class=\"tacstok\">&nbsp data </span><sub>  Asset  </sub>&nbsp need only steal or generate a valid<span class=\"tacstok\">&nbsp user_name </span><sub>  Asset  </sub>&nbsp and<span class=\"tacstok\">&nbsp password </span><sub>  Password  </sub>&nbsp to gain access to information on<span class=\"tacstok\">&nbsp potentially </span><sub>  Negative  </sub>&nbsp thousands of patients. These scenarios present serious<span class=\"tacstok\">&nbsp information_security </span><sub>  Cybersecurity  </sub>&nbsp problems for today 's healthcare information professionals. But these are problems that PKI can often remedy. \n",
       "<span class=\"tacstok\">&nbsp access_control </span><sub>  Access Control  </sub>&nbsp \n",
       " Increasingly, healthcare and related<span class=\"tacstok\">&nbsp organizations </span><sub>  Organisation  </sub>&nbsp are storing patient<span class=\"tacstok\">&nbsp health_information </span><sub>  Asset  </sub>&nbsp in such central locations as Web servers or Internet- connected databases. While centrally stored<span class=\"tacstok\">&nbsp data </span><sub>  Asset  </sub>&nbsp allows medical practitioners and associated<span class=\"tacstok\">&nbsp personnel </span><sub>  Work Role  </sub>&nbsp realtime remote access to crucial patient information, keeping these<span class=\"tacstok\">&nbsp sites </span><sub>  Internet  </sub>&nbsp<span class=\"tacstok\">&nbsp secure </span><sub>  Protection  </sub>&nbsp is a challenge. \n",
       " PKI helps keep patient information<span class=\"tacstok\">&nbsp secure </span><sub>  Protection  </sub>&nbsp by allowing<span class=\"tacstok\">&nbsp organizations </span><sub>  Organisation  </sub>&nbsp to implement<span class=\"tacstok\">&nbsp access_control </span><sub>  Access Control  </sub>&nbsp, maintain<span class=\"tacstok\">&nbsp data </span><sub>  Asset  </sub>&nbsp integrity and<span class=\"tacstok\">&nbsp confidentiality </span><sub>  Authenticity  </sub>&nbsp, authenticate<span class=\"tacstok\">&nbsp users </span><sub>  User  </sub>&nbsp and ensure non- repudiation. As a CA, a healthcare<span class=\"tacstok\">&nbsp organization </span><sub>  Organisation  </sub>&nbsp issues<span class=\"tacstok\">&nbsp digital_certificates </span><sub>  Access Control  </sub>&nbsp to<span class=\"tacstok\">&nbsp users </span><sub>  User  </sub>&nbsp that authenticate a<span class=\"tacstok\">&nbsp person </span><sub>  Individual  </sub>&nbsp 's<span class=\"tacstok\">&nbsp online </span><sub>  Internet  </sub>&nbsp identity. When issuing the certificates, the CA administrator can configure who has access to which information. After this is done, a PKI- enabled application will understand which individuals are authorized to view and access multiple levels of<span class=\"tacstok\">&nbsp secure </span><sub>  Protection  </sub>&nbsp<span class=\"tacstok\">&nbsp data </span><sub>  Asset  </sub>&nbsp. Since most<span class=\"tacstok\">&nbsp browsers </span><sub>  Internet  </sub>&nbsp and e- mail clients are already PKI- enabled, integrating certificates with Internet applications is quite easy. \n",
       " For an in- house PKI model, an<span class=\"tacstok\">&nbsp organization </span><sub>  Organisation  </sub>&nbsp licenses the appropriate<span class=\"tacstok\">&nbsp software </span><sub>  Software  </sub>&nbsp from a PKI<span class=\"tacstok\">&nbsp vendor </span><sub>  Work Role  </sub>&nbsp, implements its own PKI and becomes its own CA. If funds and time are lacking, however, healthcare organizations can contract this out to an ASP, which can easily host and manage the PKI on their behalf. The ASP acts as the trusted CA and controls certificate issuance and revocation per its client 's instructions. \n",
       " Is<span class=\"tacstok\">&nbsp Secure </span><sub>  Protection  </sub>&nbsp E-<span class=\"tacstok\">&nbsp mail </span><sub>  Comm  </sub>&nbsp Possible? \n",
       " Sending e- mail securely- that is, assuring the sender and recipient that the integrity of transmitted information is maintained and that it has not been intercepted, misrouted or changed- is also a concern in the healthcare field. For physicians to quickly relay information over the<span class=\"tacstok\">&nbsp Internet </span><sub>  Internet  </sub>&nbsp via<span class=\"tacstok\">&nbsp email </span><sub>  Comm  </sub>&nbsp, a\"<span class=\"tacstok\">&nbsp digital_signature </span><sub>  Access Control  </sub>&nbsp\" must be used. By implementing PKI for this<span class=\"tacstok\">&nbsp application </span><sub>  Software  </sub>&nbsp, medical<span class=\"tacstok\">&nbsp personnel </span><sub>  Work Role  </sub>&nbsp can send<span class=\"tacstok\">&nbsp encrypted </span><sub>  Encoding  </sub>&nbsp e-<span class=\"tacstok\">&nbsp mail </span><sub>  Comm  </sub>&nbsp with confidence that the transmitted information is readable only by the intended recipient. \n",
       " To send a<span class=\"tacstok\">&nbsp secure </span><sub>  Protection  </sub>&nbsp e-<span class=\"tacstok\">&nbsp mail </span><sub>  Comm  </sub>&nbsp within a PKI, the sender needs to retrieve the recipient 's\"<span class=\"tacstok\">&nbsp public_key </span><sub>  Encoding  </sub>&nbsp\" from a directory within<span class=\"tacstok\">&nbsp his </span><sub>  Pronoun1  </sub>&nbsp or<span class=\"tacstok\">&nbsp her </span><sub>  Pronoun1  </sub>&nbsp organization. After retrieving the key, the sender presses the\"<span class=\"tacstok\">&nbsp encrypt </span><sub>  Encoding  </sub>&nbsp\" button within the e-<span class=\"tacstok\">&nbsp mail </span><sub>  Comm  </sub>&nbsp<span class=\"tacstok\">&nbsp client </span><sub>  User  </sub>&nbsp and the<span class=\"tacstok\">&nbsp message </span><sub>  Comm  </sub>&nbsp is automatically<span class=\"tacstok\">&nbsp encrypted </span><sub>  Encoding  </sub>&nbsp when sent to the recipient. Upon the e- mail 's arrival, the recipient 's\"<span class=\"tacstok\">&nbsp private_key </span><sub>  Encoding  </sub>&nbsp\"( issued with<span class=\"tacstok\">&nbsp his </span><sub>  Pronoun1  </sub>&nbsp or<span class=\"tacstok\">&nbsp her </span><sub>  Pronoun1  </sub>&nbsp<span class=\"tacstok\">&nbsp digital_certificate </span><sub>  Access Control  </sub>&nbsp) automatically decrypts the<span class=\"tacstok\">&nbsp message </span><sub>  Comm  </sub>&nbsp, rendering it readable again. \n",
       " The cost of implementing a PKI to<span class=\"tacstok\">&nbsp secure </span><sub>  Protection  </sub>&nbsp<span class=\"tacstok\">&nbsp data </span><sub>  Asset  </sub>&nbsp access and<span class=\"tacstok\">&nbsp protect </span><sub>  Protection  </sub>&nbsp<span class=\"tacstok\">&nbsp online_transactions </span><sub>  Financial  </sub>&nbsp will vary depending on an<span class=\"tacstok\">&nbsp organization </span><sub>  Organisation  </sub>&nbsp 's needs and size of deployment. Organizations should choose a solution that allows for the flexibility of future growth of the PKI. Xcert, for example, has recently independently tested its software to scale to 8 million users, ensuring that even the largest healthcare PKI deployments can be handled easily. \n",
       " One must also consider that the PKI may need to evolve as an<span class=\"tacstok\">&nbsp organization </span><sub>  Organisation  </sub>&nbsp changes, including adding new<span class=\"tacstok\">&nbsp users </span><sub>  User  </sub>&nbsp, departments, or divisions. An<span class=\"tacstok\">&nbsp organization </span><sub>  Organisation  </sub>&nbsp should implement a solution that does not require client- side software, which quickly becomes problematic when issuing<span class=\"tacstok\">&nbsp certificates </span><sub>  Access Control  </sub>&nbsp to outside business partners or members. \n",
       " On the Horizon \n",
       " Healthcare organizations can look to PKI for more than<span class=\"tacstok\">&nbsp secure </span><sub>  Protection  </sub>&nbsp e-<span class=\"tacstok\">&nbsp mail </span><sub>  Comm  </sub>&nbsp.<span class=\"tacstok\">&nbsp digital_certificates </span><sub>  Access Control  </sub>&nbsp are also finding a role in cutting- edge electronic healthcare technology. For example, Marconi Medical Systems, a picture archiving and communications system( PACS)<span class=\"tacstok\">&nbsp vendor </span><sub>  Work Role  </sub>&nbsp, is integrating PKI into its<span class=\"tacstok\">&nbsp Web </span><sub>  Internet  </sub>&nbsp- based products. This will allow<span class=\"tacstok\">&nbsp secure </span><sub>  Protection  </sub>&nbsp, remote retrieval of radiology images and reports via a standard web_browser and Internet connection. Marconi 's PACS customers can issue certificates to their remote users to ensure that only authorized persons are accessing the database. \n",
       " With this added security, remote physicians can securely access radiological images and diagnostic reports immediately after the radiologist makes the diagnosis. This type of system enables the practice of\" real- time radiology,\" expediting the information to only those who need to see it, without forcing undue hardware or software requirements on them at the same time. \n",
       " Another example is LogonHealth 's online prescription- filling system. Through this, doctors can\" write\" and pre- adjudicate an electronic prescription from the examination room and send it directly to a patient 's pharmacy via a wireless Palm- like device or Internet- connected desktop. During this process, the physician can also check a database for patient drug allergies, reactions to other drugs the patient is taking, and even what medications the patient 's medical insurance will cover. \n",
       " LogonHealth relies on PKI to control access to their system and to quickly and strongly authenticate doctors and pharmacy identity when writing and fulfilling prescriptions<span class=\"tacstok\">&nbsp online </span><sub>  Internet  </sub>&nbsp. PKI<span class=\"tacstok\">&nbsp digital_certificates </span><sub>  Access Control  </sub>&nbsp provide LogonHealth with the confidence that their<span class=\"tacstok\">&nbsp users </span><sub>  User  </sub>&nbsp are who they say they are, avoiding the security weaknesses of a<span class=\"tacstok\">&nbsp user_name </span><sub>  Asset  </sub>&nbsp and<span class=\"tacstok\">&nbsp password </span><sub>  Password  </sub>&nbsp access system. This strong<span class=\"tacstok\">&nbsp authentication </span><sub>  Access Control  </sub>&nbsp also helps<span class=\"tacstok\">&nbsp prevent </span><sub>  Protection  </sub>&nbsp unauthorized<span class=\"tacstok\">&nbsp people </span><sub>  Individual  </sub>&nbsp from sending in prescriptions. \n",
       " Examples such as these illustrate the need for PKI in the healthcare arena, whether for<span class=\"tacstok\">&nbsp securing </span><sub>  Protection  </sub>&nbsp transmitted<span class=\"tacstok\">&nbsp data </span><sub>  Asset  </sub>&nbsp or allowing access to<span class=\"tacstok\">&nbsp sensitive </span><sub>  Positive  </sub>&nbsp healthcare information<span class=\"tacstok\">&nbsp data </span><sub>  Asset  </sub>&nbsp stores. Underlying this, though, HIPAA guidelines mandate that<span class=\"tacstok\">&nbsp electronic </span><sub>  Technology  </sub>&nbsp transactions involving healthcare information must be<span class=\"tacstok\">&nbsp secured </span><sub>  Protection  </sub>&nbsp through a comprehensive, interoperable and scalable<span class=\"tacstok\">&nbsp security_system </span><sub>  Security Software  </sub>&nbsp, like one created through PKI. No matter what the<span class=\"tacstok\">&nbsp application </span><sub>  Software  </sub>&nbsp involved, the need for HIPAA<span class=\"tacstok\">&nbsp compliance </span><sub>  Regulatory  </sub>&nbsp will undoubtedly usher PKI far into the<span class=\"tacstok\">&nbsp health_information </span><sub>  Asset  </sub>&nbsp market. \n",
       " AuthorAffiliation Young Etheridge is officer and chief scientist for Xcert, Walnut Creek, CA. Contact him at yhe@xcert.com.<h2>Document 2</h2><style>.tacstok{font-weight:bold}</style> The<span class=\"tacstok\">&nbsp changing </span><sub>  Negative  </sub>&nbsp nature of<span class=\"tacstok\">&nbsp cyber </span><sub>  Technology  </sub>&nbsp<span class=\"tacstok\">&nbsp liability </span><sub>  Risk  </sub>&nbsp is a key issue for<span class=\"tacstok\">&nbsp insurance </span><sub>  Regulatory  </sub>&nbsp agents and brokers. \n",
       "\" Cyber is definitely the hot topic,\" said Richard Hylant, executive vice president of Toledo, Ohio- based Hylant Group. \n",
       "\" Cyber 's on everyone 's mind. It 's an emerging and evolving risk,\" said Mike Foley, CEO of North America commercial and regional chairman of Zurich North America. \n",
       " He said that as recently as two years ago, it was hard to get<span class=\"tacstok\">&nbsp customers </span><sub>  User  </sub>&nbsp to think about<span class=\"tacstok\">&nbsp cyber </span><sub>  Technology  </sub>&nbsp<span class=\"tacstok\">&nbsp liability </span><sub>  Risk  </sub>&nbsp. Now, they are far more aware of their<span class=\"tacstok\">&nbsp risks </span><sub>  Risk  </sub>&nbsp,<span class=\"tacstok\">&nbsp he </span><sub>  Pronoun1  </sub>&nbsp said. \n",
       " But<span class=\"tacstok\">&nbsp cyber </span><sub>  Technology  </sub>&nbsp was far from the sole area of discussion during the Washington- based Council of Insurance Agents& Brokers' Insurance Leadership Forum last week in Colorado Springs, Colorado. \n",
       " Continued industry consolidation, a softening property/ casualty market and the never- ending search for new business opportunities also trigged conversation at the event. Of course, concern remains on how the insurance industry, on the underwriting and brokerage sides, can attract the talent it needs( see story, page 40), said attendees. \n",
       " For underwriters and brokers,<span class=\"tacstok\">&nbsp cyber </span><sub>  Technology  </sub>&nbsp presents opportunities and<span class=\"tacstok\">&nbsp risks </span><sub>  Risk  </sub>&nbsp, participants said. \n",
       "<span class=\"tacstok\">&nbsp Cyber </span><sub>  Technology  </sub>&nbsp is\" the new EPL,\" Steve Brockmeyer, president and CEO of the Bolton Co. in Pasadena, California, and immediate past chairman of the council, said in referring to employment practices<span class=\"tacstok\">&nbsp liability </span><sub>  Risk  </sub>&nbsp coverage. \n",
       "<span class=\"tacstok\">&nbsp Cyber </span><sub>  Technology  </sub>&nbsp is\" morphing a little bit,\" said Peter Gilbertson, executive vice president of Wells Fargo Insurance Services USA Inc. in Madison, New Jersey. He said the focus is shifting to third- party<span class=\"tacstok\">&nbsp breaches </span><sub>  Breach  </sub>&nbsp, where\" soft<span class=\"tacstok\">&nbsp damages </span><sub>  Harm  </sub>&nbsp\" such as anxiety over the<span class=\"tacstok\">&nbsp breaches </span><sub>  Breach  </sub>&nbsp can win<span class=\"tacstok\">&nbsp damages </span><sub>  Harm  </sub>&nbsp in court. \n",
       "\" The<span class=\"tacstok\">&nbsp cyber </span><sub>  Technology  </sub>&nbsp catastrophe has n't happened yet,\" said Mr. Gilbertson, referring to an infrastructure attack. \n",
       " Cyber is one of the few places where there is premium growth for underwriters, said Ben Walter, CEO of Hiscox USA Inc. in New York. He said underwriters are trying to come to terms with risk aggregation issues. \n",
       "\" Nobody really knows the right pricing for cyber,\" said Robert Cohen, chairman and CEO of Denver- based IMA Financial Group Inc. and newly elected vice chairman of the council. \n",
       " Despite questions, brokers continue to look for ways to expand cyber coverage. For example, Mr. Hylant said his brokerage is offering<span class=\"tacstok\">&nbsp cyber </span><sub>  Technology  </sub>&nbsp coverage on every renewal. \n",
       "<span class=\"tacstok\">&nbsp Industry </span><sub>  Organisation  </sub>&nbsp consolidation was another hot topic. Recent transactions such as the proposed acquisition of Chubb Corp. by Ace Ltd., Humana Inc. by Aetna Inc. and Towers Watson& Co. by Willis Group Holdings P.L.C. mean a change in market opportunities for brokers. \n",
       " But consolidation discussions centered more on\" who 's next\" than deals already announced, said Hank Watkins, president of Lloyd 's America Inc. in New York. \n",
       " The consolidations continue in a persistently softening property/ casualty market. \n",
       " Low interest rates, relatively benign_losses and an abundance of capital are expected to keep pressure on prices for a long time, said Don Bailey, president of global sales at Marsh L.L.C. in New York. \n",
       "\" It 's a relatively flat soft market with some softening,\" said Mr. Cohen.\" It 's still line- by- line.\" \n",
       "\" It 's getting softer except for, maybe, auto,\" said Mark A. Miller, executive vice president and president of Hylant Group 's Ann Arbor, Michigan, office. \n",
       " During the second quarter, there was downward rate pressure, especially on large- layer property accounts and workers compensation, said Mr. Foley. He said insurers still need to maintain rates because of ongoing low interest rates. \n",
       " Not surprisingly, brokers are considering new segments for growth. \n",
       "\" Mid- market is still the foundation,\" said Mr. Cohen.\" Our tech and life sciences areas are growing....<span class=\"tacstok\">&nbsp Our </span><sub>  Pronoun1  </sub>&nbsp<span class=\"tacstok\">&nbsp cyber </span><sub>  Technology  </sub>&nbsp<span class=\"tacstok\">&nbsp liability </span><sub>  Risk  </sub>&nbsp is growing.\" \n",
       " Brokers want to write new business, retain clients and control costs, with organic growth being the\" holy grail\" in these three areas, said Mr. Gilbertson. \n",
       " Brokerages are showing a\" strong interest\" in personal lines and select commercial accounts generating less than $ 100,000 in premiums, said Mr. Hylant. \n",
       " Mr. Cohen said IMA has initiatives in small- commercial and high- end personal lines. \n",
       " From the underwriter side, there 's a\" huge push\" down- market, with an emphasis on\" historically underserved\" high net worth personal lines and small- commercial<span class=\"tacstok\">&nbsp business </span><sub>  Organisation  </sub>&nbsp, said Hiscox 's. Mr. Walter. \n",
       " Tapping that market presents a huge opportunity for Hiscox, said Nicole Goodwin, chief underwriting officer."
      ],
      "text/plain": [
       "<IPython.core.display.HTML object>"
      ]
     },
     "metadata": {},
     "output_type": "display_data"
    }
   ],
   "source": [
    "tacs_annotate(data[:3], show_annot = True, custom=False, level='concept', context=True)"
   ]
  },
  {
   "cell_type": "markdown",
   "metadata": {},
   "source": [
    "## Query\n",
    "\n",
    "The query function returns documents or sentences in which certain TACS categories appear. Queries can be specified using category keys (e.g. 'tttp') or labels (e.g. 'Threat Mechanisms) linked through AND and OR operators. For example `Mobile Devices AND ttp` would look for sentences (or documents where both of these categories are mentioned). By default, documents are split into sentences `qsents=True` and each sentence is queried indiviudally; if this is disabled, full documents are queried. Currently, query returns True if the specified condition is met at least once. Future iterations might implement an option to specify a custom threshold, e.g., Mobile Device mentioned > 3. As per the Annotation function, TACS terms appear in bold with categories as subscripts; the output can be saved and/or displayed in a Jupyter Notebook. Currently, only HTML annotation is supported. Future versions can implement a DOCX variant.\n",
    "\n",
    "**Output:**\n",
    "- **Data**: The result of the query can be returned and/or saved as a table, with one searched units (documents or sentences) per rows and column for query outcome (True, i.e., condition met, or False). The id and full text of the unit are included. Selected via `save_data=False`.\n",
    "- **Annotated documents**: The queried documents are returned in full. If sentences are queried separately, sentences matching the query are highlighted. Selected via `return_all=True`.\n",
    "- **Segments**: Documents are returned as an itemised list of sentences matching the query. Selected via `return_all=False`.\n",
    "\n",
    "**Parameters:**\n",
    "- `data`: Object containing TACS or plain text documents (single document, list, dataframe). If no TACS documents are present, tacs_tag is called on plain text documents. In a dataframe, plain text documents should be located in a column labelled 'text' or the column label should be specifed via `textcol`.\n",
    "- `query`: A string specifying a query of TACS entities, specified with full or partial labels (e.g. Protection) or keys (e.g. 'tttp'), and linked with the operators AND and OR.\n",
    "- `qsents`: True/False. If True, documents are segmented into sentences and the queruy is performed on sentence-level.\n",
    "- `return_all`: True/False. If True, the full document is returned and query outcome is indicated via highlights in annotated documents or a boolean _query_ variable in data. If False, only matching documents/sentences are returned.\n",
    "- `data_return`: If True, the function returns a dataframe with the query outcome.\n",
    "- `data_save`: If True, the query outcome dataframe is written to disk under the name _tacsq__{query}_\n",
    "- `annot_return`: If True and if using a Jupyter Notebook, the annotated documents will be displayed in the notebook. Not recommended for large data.\n",
    "- `annot_save`: If True, annotated documents will be saved to disk in the form of a single document, individual documents separated by headers.\n",
    "- `annot_markup`: Specifies markup language for the annotation. Currently only `html` is implemented.\n",
    "- `annot_level`: Specifies the level of categorisation displayed in the annotation. Default is 'Concept'."
   ]
  },
  {
   "cell_type": "code",
   "execution_count": 54,
   "metadata": {},
   "outputs": [
    {
     "data": {
      "text/html": [
       "<h2>Document 0</h2><style>.tacstok{font-weight:bold}</style>   WASHINGTON( AP)--<style>.tacstok{font-weight:bold}</style> In the high- tech equivalent of a thief burglarizing<span class=\"tacstok\">&nbsp police </span><sub>  Law & Order  </sub>&nbsp headquarters, a<span class=\"tacstok\">&nbsp hacker </span><sub>  Hacker  </sub>&nbsp using an unusually clever tactic vandalized a prominent<span class=\"tacstok\">&nbsp internet_site </span><sub>  Internet  </sub>&nbsp devoted to<span class=\"tacstok\">&nbsp computer_security </span><sub>  Cybersecurity  </sub>&nbsp. \n",
       "<span style=\"background-color:#cedde2\"><style>.tacstok{font-weight:bold}</style> The<span class=\"tacstok\">&nbsp electronic </span><sub>  Technology  </sub>&nbsp assault against the AntiOnline<span class=\"tacstok\">&nbsp site </span><sub>  Internet  </sub>&nbsp last week occurred days after other<span class=\"tacstok\">&nbsp hackers </span><sub>  Hacker  </sub>&nbsp altered the<span class=\"tacstok\">&nbsp web_site </span><sub>  Internet  </sub>&nbsp for Symantec Corp., whose software is used by millions of<span class=\"tacstok\">&nbsp consumers </span><sub>  User  </sub>&nbsp to<span class=\"tacstok\">&nbsp protect </span><sub>  Protection  </sub>&nbsp against<span class=\"tacstok\">&nbsp viruses </span><sub>  Malware  </sub>&nbsp and<span class=\"tacstok\">&nbsp electronic </span><sub>  Technology  </sub>&nbsp snoops. \n",
       "</span><style>.tacstok{font-weight:bold}</style> In the latest incident, a<span class=\"tacstok\">&nbsp hacker </span><sub>  Hacker  </sub>&nbsp using an<span class=\"tacstok\">&nbsp Internet </span><sub>  Internet  </sub>&nbsp account in Russia successfully tricked the site 's computer to load hidden software code from elsewhere onto one of its own Web pages, called\" Eye on the Underground.<style>.tacstok{font-weight:bold}</style>\" \n",
       "<style>.tacstok{font-weight:bold}</style> The site was fixed just over an hour later, but this week 's attacks raised questions about<span class=\"tacstok\">&nbsp internet_security </span><sub>  Cybersecurity  </sub>&nbsp: If<span class=\"tacstok\">&nbsp organizations </span><sub>  Organisation  </sub>&nbsp that clearly are aware of<span class=\"tacstok\">&nbsp potential </span><sub>  Negative  </sub>&nbsp security problems ca n't<span class=\"tacstok\">&nbsp protect </span><sub>  Protection  </sub>&nbsp their<span class=\"tacstok\">&nbsp sites </span><sub>  Internet  </sub>&nbsp, how can the rest of the Internet? \n",
       "<style>.tacstok{font-weight:bold}</style>\"<style>.tacstok{font-weight:bold}</style> There is no absolute security,\" said James Adams, chief executive of<span class=\"tacstok\">&nbsp Infrastructure </span><sub>  Asset  </sub>&nbsp<span class=\"tacstok\">&nbsp Defense </span><sub>  Protection  </sub>&nbsp Inc., which works to<span class=\"tacstok\">&nbsp protect </span><sub>  Protection  </sub>&nbsp<span class=\"tacstok\">&nbsp companies </span><sub>  Organisation  </sub>&nbsp against<span class=\"tacstok\">&nbsp hackers </span><sub>  Hacker  </sub>&nbsp.<style>.tacstok{font-weight:bold}</style>\"<style>.tacstok{font-weight:bold}</style> All<span class=\"tacstok\">&nbsp you </span><sub>  Pronoun1  </sub>&nbsp can do is try to keep ahead of the game.<style>.tacstok{font-weight:bold}</style> For anybody to claim they 're totally secure, it 's not true.<style>.tacstok{font-weight:bold}</style>\" \n",
       "<style>.tacstok{font-weight:bold}</style> Although the<span class=\"tacstok\">&nbsp hacker </span><sub>  Hacker  </sub>&nbsp never directly infiltrated AntiOnline 's<span class=\"tacstok\">&nbsp computers </span><sub>  Device  </sub>&nbsp, the hidden code redirected visitors to a Web page with the image of an unblinking eye along with the<span class=\"tacstok\">&nbsp message </span><sub>  Comm  </sub>&nbsp\" expensive<span class=\"tacstok\">&nbsp security_systems </span><sub>  Security Software  </sub>&nbsp do not<span class=\"tacstok\">&nbsp protect </span><sub>  Protection  </sub>&nbsp from stupidity.<style>.tacstok{font-weight:bold}</style>\" \n",
       "<style>.tacstok{font-weight:bold}</style>\" I would n't call it sophisticated, but I 'd call it clever,\" said John Vranesevich, who runs AntiOnline in Beaver, Pa. \n",
       "<style>.tacstok{font-weight:bold}</style> The affected AntiOnline page was designed to automatically collect and display messages posted to an online discussion group at another<span class=\"tacstok\">&nbsp internet_site </span><sub>  Internet  </sub>&nbsp popular among<span class=\"tacstok\">&nbsp hackers </span><sub>  Hacker  </sub>&nbsp. \n",
       "<style>.tacstok{font-weight:bold}</style> But someone using the<span class=\"tacstok\">&nbsp Internet </span><sub>  Internet  </sub>&nbsp account traced to Russia slipped hidden computer code into the text of one of those messages, which was then automatically loaded onto AntiOnline 's site and sabotaged it. \n",
       "<span style=\"background-color:#cedde2\"><style>.tacstok{font-weight:bold}</style> Mr. Adams said<span class=\"tacstok\">&nbsp web_sites </span><sub>  Internet  </sub>&nbsp specializing in<span class=\"tacstok\">&nbsp computer_security </span><sub>  Cybersecurity  </sub>&nbsp need to take greater precautions because successful attacks against these computers can carry greater glory among the underground-<span class=\"tacstok\">&nbsp hacking </span><sub>  Hacking  </sub>&nbsp community.</span><style>.tacstok{font-weight:bold}</style>\"<style>.tacstok{font-weight:bold}</style> There are brownie points to be gained,\" Mr. Adams said. \n",
       "<style>.tacstok{font-weight:bold}</style>\" Do we need better education?<style>.tacstok{font-weight:bold}</style> Yes,\" said Russ Cooper of NTBugtraq, a popular<span class=\"tacstok\">&nbsp Internet </span><sub>  Internet  </sub>&nbsp discussion group about<span class=\"tacstok\">&nbsp computer_security </span><sub>  Cybersecurity  </sub>&nbsp.<style>.tacstok{font-weight:bold}</style>\"<style>.tacstok{font-weight:bold}</style> Do<span class=\"tacstok\">&nbsp we </span><sub>  Pronoun1  </sub>&nbsp need better tools?<style>.tacstok{font-weight:bold}</style> Yes.<style>.tacstok{font-weight:bold}</style> Does that mean I 'm never going to suffer an attack?<style>.tacstok{font-weight:bold}</style> No. \n",
       "<style>.tacstok{font-weight:bold}</style>\"<style>.tacstok{font-weight:bold}</style> There is n't a piece of software you double-<span class=\"tacstok\">&nbsp click </span><sub>  UI  </sub>&nbsp to set up<style>.tacstok{font-weight:bold}</style> and it 's<span class=\"tacstok\">&nbsp secure </span><sub>  Protection  </sub>&nbsp,\" he said.<style>.tacstok{font-weight:bold}</style>\"<style>.tacstok{font-weight:bold}</style> You have to have staff and policy, and you have to have monitoring.<style>.tacstok{font-weight:bold}</style>\" \n",
       "<style>.tacstok{font-weight:bold}</style> Mr. Vranesevich, who was demonized by some<span class=\"tacstok\">&nbsp hackers </span><sub>  Hacker  </sub>&nbsp when<span class=\"tacstok\">&nbsp he </span><sub>  Pronoun1  </sub>&nbsp announced over the summer that AntiOnline would help<span class=\"tacstok\">&nbsp authorities </span><sub>  Gov  </sub>&nbsp trace and prosecute<span class=\"tacstok\">&nbsp computer </span><sub>  Device  </sub>&nbsp attacks, noted that other<span class=\"tacstok\">&nbsp web_site </span><sub>  Internet  </sub>&nbsp operators were n't as<span class=\"tacstok\">&nbsp vulnerable </span><sub>  Insecure  </sub>&nbsp to the same technique that affected<span class=\"tacstok\">&nbsp his </span><sub>  Pronoun1  </sub>&nbsp<span class=\"tacstok\">&nbsp site </span><sub>  Internet  </sub>&nbsp. \n",
       "<style>.tacstok{font-weight:bold}</style>\" We sort of caused it ourselves,\"<span class=\"tacstok\">&nbsp he </span><sub>  Pronoun1  </sub>&nbsp said.<style>.tacstok{font-weight:bold}</style>\"<style>.tacstok{font-weight:bold}</style><span class=\"tacstok\">&nbsp We </span><sub>  Pronoun1  </sub>&nbsp visit the<span class=\"tacstok\">&nbsp hacker </span><sub>  Hacker  </sub>&nbsp<span class=\"tacstok\">&nbsp sites </span><sub>  Internet  </sub>&nbsp dynamically, and that is the type of scenario your average system_administrator probably would n't encounter.<style>.tacstok{font-weight:bold}</style> We 're doing things far more obscure.\" \n",
       "\n",
       "<h2>Document 1</h2><style>.tacstok{font-weight:bold}</style> Headnote Creative and comprehensive ways to meet security needs. \n",
       "<style>.tacstok{font-weight:bold}</style> In the coming months, healthcare<span class=\"tacstok\">&nbsp organizations </span><sub>  Organisation  </sub>&nbsp are required to implement strong<span class=\"tacstok\">&nbsp data_security </span><sub>  Cybersecurity  </sub>&nbsp mechanisms to comply with the Health<span class=\"tacstok\">&nbsp Insurance </span><sub>  Regulatory  </sub>&nbsp Portability and Accountability Act( HIPAA).<style>.tacstok{font-weight:bold}</style> From a business perspective, these<span class=\"tacstok\">&nbsp organizations </span><sub>  Organisation  </sub>&nbsp must also choose an<span class=\"tacstok\">&nbsp information_security </span><sub>  Cybersecurity  </sub>&nbsp and<span class=\"tacstok\">&nbsp user </span><sub>  User  </sub>&nbsp<span class=\"tacstok\">&nbsp authentication </span><sub>  Access Control  </sub>&nbsp method that provides interoperability, scalability and ease of implementation. \n",
       "<style>.tacstok{font-weight:bold}</style> One alternative for<span class=\"tacstok\">&nbsp user </span><sub>  User  </sub>&nbsp<span class=\"tacstok\">&nbsp authentication </span><sub>  Access Control  </sub>&nbsp is biometrics, although it does n't allow users to digitally\" sign\" documents, making biometric<span class=\"tacstok\">&nbsp devices </span><sub>  Device  </sub>&nbsp insufficient for allowing<span class=\"tacstok\">&nbsp organizations </span><sub>  Organisation  </sub>&nbsp to attach nonrefutable signatures to<span class=\"tacstok\">&nbsp electronic </span><sub>  Technology  </sub>&nbsp transactions and<span class=\"tacstok\">&nbsp sensitive </span><sub>  Positive  </sub>&nbsp<span class=\"tacstok\">&nbsp emails </span><sub>  Comm  </sub>&nbsp.<style>.tacstok{font-weight:bold}</style> Also, biometrics works best in controlled IT environments, such as LANs, because of the special<span class=\"tacstok\">&nbsp hardware </span><sub>  Technology  </sub>&nbsp needed for biometric<span class=\"tacstok\">&nbsp authentication </span><sub>  Access Control  </sub>&nbsp systems, which become unmanageable when transacting with external users( outside the<span class=\"tacstok\">&nbsp LAN </span><sub>  Internet  </sub>&nbsp). \n",
       "<style>.tacstok{font-weight:bold}</style><span class=\"tacstok\">&nbsp Organizations </span><sub>  Organisation  </sub>&nbsp need easy- to- deploy<span class=\"tacstok\">&nbsp software </span><sub>  Software  </sub>&nbsp that gives them the<span class=\"tacstok\">&nbsp authentication </span><sub>  Access Control  </sub>&nbsp power of biometrics combined with a<span class=\"tacstok\">&nbsp digital_signature </span><sub>  Access Control  </sub>&nbsp capability. \n",
       "<style>.tacstok{font-weight:bold}</style><span class=\"tacstok\">&nbsp public_key_infrastructure </span><sub>  Access Control  </sub>&nbsp( PKI) is a system where a person 's<span class=\"tacstok\">&nbsp online </span><sub>  Internet  </sub>&nbsp identity is validated by a<span class=\"tacstok\">&nbsp digital_certificate </span><sub>  Access Control  </sub>&nbsp.<style>.tacstok{font-weight:bold}</style> Within the healthcare arena,<span class=\"tacstok\">&nbsp certificates </span><sub>  Access Control  </sub>&nbsp can be issued to healthcare professionals and plan members through a healthcare organization 's certificate authority( CA), which determines who should receive a certificate, for how long the certificate will remain active, and what access privileges that certificate holder is authorized to have. \n",
       "<style>.tacstok{font-weight:bold}</style> Certificates are then presented as proof of identity to reliant applications before access is granted to authorized information.<style>.tacstok{font-weight:bold}</style> These same<span class=\"tacstok\">&nbsp digital_certificates </span><sub>  Access Control  </sub>&nbsp can be used to generate<span class=\"tacstok\">&nbsp digital_signatures </span><sub>  Access Control  </sub>&nbsp.<style>.tacstok{font-weight:bold}</style> Depending on an<span class=\"tacstok\">&nbsp organization </span><sub>  Organisation  </sub>&nbsp 's needs, a PKI can also be run via an<span class=\"tacstok\">&nbsp application </span><sub>  Software  </sub>&nbsp<span class=\"tacstok\">&nbsp service_provider </span><sub>  Work Role  </sub>&nbsp( ASP), which allows healthcare organizes tions to quickly establish a strong<span class=\"tacstok\">&nbsp authentication </span><sub>  Access Control  </sub>&nbsp<span class=\"tacstok\">&nbsp security_system </span><sub>  Security Software  </sub>&nbsp without having to purchase and manage the<span class=\"tacstok\">&nbsp software </span><sub>  Software  </sub>&nbsp themselves. \n",
       "<style>.tacstok{font-weight:bold}</style><span class=\"tacstok\">&nbsp Risk </span><sub>  Risk  </sub>&nbsp of<span class=\"tacstok\">&nbsp Data </span><sub>  Asset  </sub>&nbsp Theft \n",
       " Health<span class=\"tacstok\">&nbsp data </span><sub>  Asset  </sub>&nbsp is becoming more Internet-<span class=\"tacstok\">&nbsp browser </span><sub>  Internet  </sub>&nbsp- accessible, and therefore healthcare<span class=\"tacstok\">&nbsp organizations </span><sub>  Organisation  </sub>&nbsp and patients are becoming increasingly susceptible to<span class=\"tacstok\">&nbsp data </span><sub>  Asset  </sub>&nbsp theft and prying eyes.<style>.tacstok{font-weight:bold}</style> Compounding this<span class=\"tacstok\">&nbsp threat </span><sub>  Threat  </sub>&nbsp is the advent of Internetbased consultation, which entails sending<span class=\"tacstok\">&nbsp sensitive </span><sub>  Positive  </sub>&nbsp medical information over the<span class=\"tacstok\">&nbsp Internet </span><sub>  Internet  </sub>&nbsp via e- mail and web_services.<style>.tacstok{font-weight:bold}</style> Unfortunately, e-<span class=\"tacstok\">&nbsp mail </span><sub>  Comm  </sub>&nbsp can be<span class=\"tacstok\">&nbsp insecure </span><sub>  Insecure  </sub>&nbsp and intentionally or unintentionally intercepted, incorrectly routed, or even worse, altered en route by a third party and ushered on to the unsuspecting recipient. \n",
       "<style>.tacstok{font-weight:bold}</style> In a similar vein, as patient- identifiable health_information is posted on websites or stored in databases for access by remote users,<span class=\"tacstok\">&nbsp people </span><sub>  Individual  </sub>&nbsp trying to gain illegal access to<span class=\"tacstok\">&nbsp confidential </span><sub>  Authenticity  </sub>&nbsp<span class=\"tacstok\">&nbsp data </span><sub>  Asset  </sub>&nbsp need only steal or generate a valid<span class=\"tacstok\">&nbsp user_name </span><sub>  Asset  </sub>&nbsp and<span class=\"tacstok\">&nbsp password </span><sub>  Password  </sub>&nbsp to gain access to information on<span class=\"tacstok\">&nbsp potentially </span><sub>  Negative  </sub>&nbsp thousands of patients.<style>.tacstok{font-weight:bold}</style> These scenarios present serious<span class=\"tacstok\">&nbsp information_security </span><sub>  Cybersecurity  </sub>&nbsp problems for today 's healthcare information professionals.<style>.tacstok{font-weight:bold}</style> But these are problems that PKI can often remedy. \n",
       "<style>.tacstok{font-weight:bold}</style><span class=\"tacstok\">&nbsp access_control </span><sub>  Access Control  </sub>&nbsp \n",
       " Increasingly, healthcare and related<span class=\"tacstok\">&nbsp organizations </span><sub>  Organisation  </sub>&nbsp are storing patient<span class=\"tacstok\">&nbsp health_information </span><sub>  Asset  </sub>&nbsp in such central locations as Web servers or Internet- connected databases.<style>.tacstok{font-weight:bold}</style> While centrally stored<span class=\"tacstok\">&nbsp data </span><sub>  Asset  </sub>&nbsp allows medical practitioners and associated<span class=\"tacstok\">&nbsp personnel </span><sub>  Work Role  </sub>&nbsp realtime remote access to crucial patient information, keeping these<span class=\"tacstok\">&nbsp sites </span><sub>  Internet  </sub>&nbsp<span class=\"tacstok\">&nbsp secure </span><sub>  Protection  </sub>&nbsp is a challenge. \n",
       "<style>.tacstok{font-weight:bold}</style> PKI helps keep patient information<span class=\"tacstok\">&nbsp secure </span><sub>  Protection  </sub>&nbsp by allowing<span class=\"tacstok\">&nbsp organizations </span><sub>  Organisation  </sub>&nbsp to implement<span class=\"tacstok\">&nbsp access_control </span><sub>  Access Control  </sub>&nbsp, maintain<span class=\"tacstok\">&nbsp data </span><sub>  Asset  </sub>&nbsp integrity and<span class=\"tacstok\">&nbsp confidentiality </span><sub>  Authenticity  </sub>&nbsp, authenticate<span class=\"tacstok\">&nbsp users </span><sub>  User  </sub>&nbsp and ensure non- repudiation.<style>.tacstok{font-weight:bold}</style> As a CA, a healthcare<span class=\"tacstok\">&nbsp organization </span><sub>  Organisation  </sub>&nbsp issues<span class=\"tacstok\">&nbsp digital_certificates </span><sub>  Access Control  </sub>&nbsp to<span class=\"tacstok\">&nbsp users </span><sub>  User  </sub>&nbsp that authenticate a<span class=\"tacstok\">&nbsp person </span><sub>  Individual  </sub>&nbsp 's<span class=\"tacstok\">&nbsp online </span><sub>  Internet  </sub>&nbsp identity.<style>.tacstok{font-weight:bold}</style> When issuing the certificates, the CA administrator can configure who has access to which information.<style>.tacstok{font-weight:bold}</style> After this is done, a PKI- enabled application will understand which individuals are authorized to view and access multiple levels of<span class=\"tacstok\">&nbsp secure </span><sub>  Protection  </sub>&nbsp<span class=\"tacstok\">&nbsp data </span><sub>  Asset  </sub>&nbsp.<style>.tacstok{font-weight:bold}</style> Since most<span class=\"tacstok\">&nbsp browsers </span><sub>  Internet  </sub>&nbsp and e- mail clients are already PKI- enabled, integrating certificates with Internet applications is quite easy. \n",
       "<style>.tacstok{font-weight:bold}</style> For an in- house PKI model, an<span class=\"tacstok\">&nbsp organization </span><sub>  Organisation  </sub>&nbsp licenses the appropriate<span class=\"tacstok\">&nbsp software </span><sub>  Software  </sub>&nbsp from a PKI<span class=\"tacstok\">&nbsp vendor </span><sub>  Work Role  </sub>&nbsp, implements its own PKI and becomes its own CA.<style>.tacstok{font-weight:bold}</style> If funds and time are lacking, however, healthcare organizations can contract this out to an ASP, which can easily host and manage the PKI on their behalf.<style>.tacstok{font-weight:bold}</style> The ASP acts as the trusted CA and controls certificate issuance and revocation per its client 's instructions. \n",
       "<style>.tacstok{font-weight:bold}</style> Is<span class=\"tacstok\">&nbsp Secure </span><sub>  Protection  </sub>&nbsp E-<span class=\"tacstok\">&nbsp mail </span><sub>  Comm  </sub>&nbsp Possible? \n",
       "<style>.tacstok{font-weight:bold}</style> Sending e- mail securely- that is, assuring the sender and recipient that the integrity of transmitted information is maintained and that it has not been intercepted, misrouted or changed- is also a concern in the healthcare field.<style>.tacstok{font-weight:bold}</style> For physicians to quickly relay information over the<span class=\"tacstok\">&nbsp Internet </span><sub>  Internet  </sub>&nbsp via<span class=\"tacstok\">&nbsp email </span><sub>  Comm  </sub>&nbsp, a\"<span class=\"tacstok\">&nbsp digital_signature </span><sub>  Access Control  </sub>&nbsp\" must be used.<style>.tacstok{font-weight:bold}</style> By implementing PKI for this<span class=\"tacstok\">&nbsp application </span><sub>  Software  </sub>&nbsp, medical<span class=\"tacstok\">&nbsp personnel </span><sub>  Work Role  </sub>&nbsp can send<span class=\"tacstok\">&nbsp encrypted </span><sub>  Encoding  </sub>&nbsp e-<span class=\"tacstok\">&nbsp mail </span><sub>  Comm  </sub>&nbsp with confidence that the transmitted information is readable only by the intended recipient. \n",
       "<style>.tacstok{font-weight:bold}</style> To send a<span class=\"tacstok\">&nbsp secure </span><sub>  Protection  </sub>&nbsp e-<span class=\"tacstok\">&nbsp mail </span><sub>  Comm  </sub>&nbsp within a PKI, the sender needs to retrieve the recipient 's<style>.tacstok{font-weight:bold}</style>\"<span class=\"tacstok\">&nbsp public_key </span><sub>  Encoding  </sub>&nbsp\" from a directory within<span class=\"tacstok\">&nbsp his </span><sub>  Pronoun1  </sub>&nbsp or<span class=\"tacstok\">&nbsp her </span><sub>  Pronoun1  </sub>&nbsp organization.<style>.tacstok{font-weight:bold}</style> After retrieving the key, the sender presses the\"<span class=\"tacstok\">&nbsp encrypt </span><sub>  Encoding  </sub>&nbsp\" button within the e-<span class=\"tacstok\">&nbsp mail </span><sub>  Comm  </sub>&nbsp<span class=\"tacstok\">&nbsp client </span><sub>  User  </sub>&nbsp and the<span class=\"tacstok\">&nbsp message </span><sub>  Comm  </sub>&nbsp is automatically<span class=\"tacstok\">&nbsp encrypted </span><sub>  Encoding  </sub>&nbsp when sent to the recipient.<style>.tacstok{font-weight:bold}</style> Upon the e- mail 's arrival, the recipient 's\"<span class=\"tacstok\">&nbsp private_key </span><sub>  Encoding  </sub>&nbsp\"( issued with<span class=\"tacstok\">&nbsp his </span><sub>  Pronoun1  </sub>&nbsp or<span class=\"tacstok\">&nbsp her </span><sub>  Pronoun1  </sub>&nbsp<span class=\"tacstok\">&nbsp digital_certificate </span><sub>  Access Control  </sub>&nbsp) automatically decrypts the<span class=\"tacstok\">&nbsp message </span><sub>  Comm  </sub>&nbsp, rendering it readable again. \n",
       "<style>.tacstok{font-weight:bold}</style> The cost of implementing a PKI to<span class=\"tacstok\">&nbsp secure </span><sub>  Protection  </sub>&nbsp<span class=\"tacstok\">&nbsp data </span><sub>  Asset  </sub>&nbsp access and<span class=\"tacstok\">&nbsp protect </span><sub>  Protection  </sub>&nbsp<span class=\"tacstok\">&nbsp online_transactions </span><sub>  Financial  </sub>&nbsp will vary depending on an<span class=\"tacstok\">&nbsp organization </span><sub>  Organisation  </sub>&nbsp 's needs and size of deployment.<style>.tacstok{font-weight:bold}</style> Organizations should choose a solution that allows for the flexibility of future growth of the PKI.<style>.tacstok{font-weight:bold}</style> Xcert, for example, has recently independently tested its software to scale to 8 million users, ensuring that even the largest healthcare PKI deployments can be handled easily. \n",
       "<style>.tacstok{font-weight:bold}</style> One must also consider that the PKI may need to evolve as an<span class=\"tacstok\">&nbsp organization </span><sub>  Organisation  </sub>&nbsp changes, including adding new<span class=\"tacstok\">&nbsp users </span><sub>  User  </sub>&nbsp, departments, or divisions.<style>.tacstok{font-weight:bold}</style> An<span class=\"tacstok\">&nbsp organization </span><sub>  Organisation  </sub>&nbsp should implement a solution that does not require client- side software, which quickly becomes problematic when issuing<span class=\"tacstok\">&nbsp certificates </span><sub>  Access Control  </sub>&nbsp to outside business partners or members. \n",
       "<style>.tacstok{font-weight:bold}</style> On the Horizon \n",
       " Healthcare organizations can look to PKI for more than<span class=\"tacstok\">&nbsp secure </span><sub>  Protection  </sub>&nbsp e-<span class=\"tacstok\">&nbsp mail </span><sub>  Comm  </sub>&nbsp.<style>.tacstok{font-weight:bold}</style><span class=\"tacstok\">&nbsp digital_certificates </span><sub>  Access Control  </sub>&nbsp are also finding a role in cutting- edge electronic healthcare technology.<style>.tacstok{font-weight:bold}</style> For example, Marconi Medical Systems, a picture archiving and communications system( PACS)<span class=\"tacstok\">&nbsp vendor </span><sub>  Work Role  </sub>&nbsp, is integrating PKI into its<span class=\"tacstok\">&nbsp Web </span><sub>  Internet  </sub>&nbsp- based products.<style>.tacstok{font-weight:bold}</style> This will allow<span class=\"tacstok\">&nbsp secure </span><sub>  Protection  </sub>&nbsp, remote retrieval of radiology images and reports via a standard web_browser and Internet connection.<style>.tacstok{font-weight:bold}</style> Marconi 's PACS customers can issue certificates to their remote users to ensure that only authorized persons are accessing the database. \n",
       "<style>.tacstok{font-weight:bold}</style> With this added security, remote physicians can securely access radiological images and diagnostic reports immediately after the radiologist makes the diagnosis.<style>.tacstok{font-weight:bold}</style> This type of system enables the practice of\" real- time radiology,\" expediting the information to only those who need to see it, without forcing undue hardware or software requirements on them at the same time. \n",
       "<style>.tacstok{font-weight:bold}</style> Another example is LogonHealth 's online prescription- filling system.<style>.tacstok{font-weight:bold}</style> Through this, doctors can\" write\" and pre- adjudicate an electronic prescription from the examination room and send it directly to a patient 's pharmacy via a wireless Palm- like device or Internet- connected desktop.<style>.tacstok{font-weight:bold}</style> During this process, the physician can also check a database for patient drug allergies, reactions to other drugs the patient is taking, and even what medications the patient 's medical insurance will cover. \n",
       "<style>.tacstok{font-weight:bold}</style> LogonHealth relies on PKI to control access to their system and to quickly and strongly authenticate doctors and pharmacy identity when writing and fulfilling prescriptions<span class=\"tacstok\">&nbsp online </span><sub>  Internet  </sub>&nbsp.<style>.tacstok{font-weight:bold}</style> PKI<span class=\"tacstok\">&nbsp digital_certificates </span><sub>  Access Control  </sub>&nbsp provide LogonHealth with the confidence that their<span class=\"tacstok\">&nbsp users </span><sub>  User  </sub>&nbsp are who they say they are, avoiding the security weaknesses of a<span class=\"tacstok\">&nbsp user_name </span><sub>  Asset  </sub>&nbsp and<span class=\"tacstok\">&nbsp password </span><sub>  Password  </sub>&nbsp access system.<style>.tacstok{font-weight:bold}</style> This strong<span class=\"tacstok\">&nbsp authentication </span><sub>  Access Control  </sub>&nbsp also helps<span class=\"tacstok\">&nbsp prevent </span><sub>  Protection  </sub>&nbsp unauthorized<span class=\"tacstok\">&nbsp people </span><sub>  Individual  </sub>&nbsp from sending in prescriptions. \n",
       "<style>.tacstok{font-weight:bold}</style> Examples such as these illustrate the need for PKI in the healthcare arena, whether for<span class=\"tacstok\">&nbsp securing </span><sub>  Protection  </sub>&nbsp transmitted<span class=\"tacstok\">&nbsp data </span><sub>  Asset  </sub>&nbsp or allowing access to<span class=\"tacstok\">&nbsp sensitive </span><sub>  Positive  </sub>&nbsp healthcare information<span class=\"tacstok\">&nbsp data </span><sub>  Asset  </sub>&nbsp stores.<style>.tacstok{font-weight:bold}</style> Underlying this, though, HIPAA guidelines mandate that<span class=\"tacstok\">&nbsp electronic </span><sub>  Technology  </sub>&nbsp transactions involving healthcare information must be<span class=\"tacstok\">&nbsp secured </span><sub>  Protection  </sub>&nbsp through a comprehensive, interoperable and scalable<span class=\"tacstok\">&nbsp security_system </span><sub>  Security Software  </sub>&nbsp, like one created through PKI.<style>.tacstok{font-weight:bold}</style> No matter what the<span class=\"tacstok\">&nbsp application </span><sub>  Software  </sub>&nbsp involved, the need for HIPAA<span class=\"tacstok\">&nbsp compliance </span><sub>  Regulatory  </sub>&nbsp will undoubtedly usher PKI far into the<span class=\"tacstok\">&nbsp health_information </span><sub>  Asset  </sub>&nbsp market. \n",
       "<style>.tacstok{font-weight:bold}</style> AuthorAffiliation Young Etheridge is officer and chief scientist for Xcert, Walnut Creek, CA.<style>.tacstok{font-weight:bold}</style> Contact him at yhe@xcert.com.<h2>Document 2</h2><style>.tacstok{font-weight:bold}</style> The<span class=\"tacstok\">&nbsp changing </span><sub>  Negative  </sub>&nbsp nature of<span class=\"tacstok\">&nbsp cyber </span><sub>  Technology  </sub>&nbsp<span class=\"tacstok\">&nbsp liability </span><sub>  Risk  </sub>&nbsp is a key issue for<span class=\"tacstok\">&nbsp insurance </span><sub>  Regulatory  </sub>&nbsp agents and brokers. \n",
       "<style>.tacstok{font-weight:bold}</style>\" Cyber is definitely the hot topic,\" said Richard Hylant, executive vice president of Toledo, Ohio- based Hylant Group. \n",
       "<style>.tacstok{font-weight:bold}</style>\" Cyber 's on everyone 's mind.<style>.tacstok{font-weight:bold}</style> It 's an emerging and evolving risk,\" said Mike Foley, CEO of North America commercial and regional chairman of Zurich North America. \n",
       "<style>.tacstok{font-weight:bold}</style> He said that as recently as two years ago, it was hard to get<span class=\"tacstok\">&nbsp customers </span><sub>  User  </sub>&nbsp to think about<span class=\"tacstok\">&nbsp cyber </span><sub>  Technology  </sub>&nbsp<span class=\"tacstok\">&nbsp liability </span><sub>  Risk  </sub>&nbsp.<style>.tacstok{font-weight:bold}</style> Now, they are far more aware of their<span class=\"tacstok\">&nbsp risks </span><sub>  Risk  </sub>&nbsp,<span class=\"tacstok\">&nbsp he </span><sub>  Pronoun1  </sub>&nbsp said. \n",
       "<style>.tacstok{font-weight:bold}</style> But<span class=\"tacstok\">&nbsp cyber </span><sub>  Technology  </sub>&nbsp was far from the sole area of discussion during the Washington- based Council of Insurance Agents& Brokers' Insurance Leadership Forum last week in Colorado Springs, Colorado. \n",
       "<style>.tacstok{font-weight:bold}</style> Continued industry consolidation, a softening property/ casualty market and the never- ending search for new business opportunities also trigged conversation at the event.<style>.tacstok{font-weight:bold}</style> Of course, concern remains on how the insurance industry, on the underwriting and brokerage sides, can attract the talent it needs( see story, page 40), said attendees. \n",
       "<style>.tacstok{font-weight:bold}</style> For underwriters and brokers,<span class=\"tacstok\">&nbsp cyber </span><sub>  Technology  </sub>&nbsp presents opportunities and<span class=\"tacstok\">&nbsp risks </span><sub>  Risk  </sub>&nbsp, participants said. \n",
       "<style>.tacstok{font-weight:bold}</style><span class=\"tacstok\">&nbsp Cyber </span><sub>  Technology  </sub>&nbsp is\" the new EPL,\" Steve Brockmeyer, president and CEO of the Bolton Co. in Pasadena, California, and immediate past chairman of the council, said in referring to employment practices<span class=\"tacstok\">&nbsp liability </span><sub>  Risk  </sub>&nbsp coverage. \n",
       "<style>.tacstok{font-weight:bold}</style><span class=\"tacstok\">&nbsp Cyber </span><sub>  Technology  </sub>&nbsp is\" morphing a little bit,\" said Peter Gilbertson, executive vice president of Wells Fargo Insurance Services USA Inc. in Madison, New Jersey.<span style=\"background-color:#cedde2\"><style>.tacstok{font-weight:bold}</style> He said the focus is shifting to third- party<span class=\"tacstok\">&nbsp breaches </span><sub>  Breach  </sub>&nbsp, where\" soft<span class=\"tacstok\">&nbsp damages </span><sub>  Harm  </sub>&nbsp\" such as anxiety over the<span class=\"tacstok\">&nbsp breaches </span><sub>  Breach  </sub>&nbsp can win<span class=\"tacstok\">&nbsp damages </span><sub>  Harm  </sub>&nbsp in court. \n",
       "</span><style>.tacstok{font-weight:bold}</style>\"<style>.tacstok{font-weight:bold}</style> The<span class=\"tacstok\">&nbsp cyber </span><sub>  Technology  </sub>&nbsp catastrophe has n't happened yet,\" said Mr. Gilbertson, referring to an infrastructure attack. \n",
       "<style>.tacstok{font-weight:bold}</style> Cyber is one of the few places where there is premium growth for underwriters, said Ben Walter, CEO of Hiscox USA Inc. in New York.<style>.tacstok{font-weight:bold}</style> He said underwriters are trying to come to terms with risk aggregation issues. \n",
       "<style>.tacstok{font-weight:bold}</style>\" Nobody really knows the right pricing for cyber,\" said Robert Cohen, chairman and CEO of Denver- based IMA Financial Group Inc. and newly elected vice chairman of the council. \n",
       "<style>.tacstok{font-weight:bold}</style> Despite questions, brokers continue to look for ways to expand cyber coverage.<style>.tacstok{font-weight:bold}</style> For example, Mr. Hylant said his brokerage is offering<span class=\"tacstok\">&nbsp cyber </span><sub>  Technology  </sub>&nbsp coverage on every renewal. \n",
       "<style>.tacstok{font-weight:bold}</style><span class=\"tacstok\">&nbsp Industry </span><sub>  Organisation  </sub>&nbsp consolidation was another hot topic.<style>.tacstok{font-weight:bold}</style> Recent transactions such as the proposed acquisition of Chubb Corp. by Ace Ltd., Humana Inc. by Aetna Inc. and Towers Watson& Co. by Willis Group Holdings P.L.C. mean a change in market opportunities for brokers. \n",
       "<style>.tacstok{font-weight:bold}</style> But consolidation discussions centered more on\" who 's next\" than deals already announced, said Hank Watkins, president of Lloyd 's America Inc. in New York. \n",
       "<style>.tacstok{font-weight:bold}</style> The consolidations continue in a persistently softening property/ casualty market. \n",
       "<style>.tacstok{font-weight:bold}</style> Low interest rates, relatively benign_losses and an abundance of capital are expected to keep pressure on prices for a long time, said Don Bailey, president of global sales at Marsh L.L.C. in New York. \n",
       "<style>.tacstok{font-weight:bold}</style>\"<style>.tacstok{font-weight:bold}</style> It 's a relatively flat soft market with some softening,\" said Mr. Cohen.<style>.tacstok{font-weight:bold}</style>\"<style>.tacstok{font-weight:bold}</style> It 's still line- by- line.\" \n",
       "<style>.tacstok{font-weight:bold}</style>\"<style>.tacstok{font-weight:bold}</style> It 's getting softer except for, maybe, auto,\" said Mark A. Miller, executive vice president and president of Hylant Group 's Ann Arbor, Michigan, office. \n",
       "<style>.tacstok{font-weight:bold}</style> During the second quarter, there was downward rate pressure, especially on large- layer property accounts and workers compensation, said Mr. Foley.<style>.tacstok{font-weight:bold}</style> He said insurers still need to maintain rates because of ongoing low interest rates. \n",
       "<style>.tacstok{font-weight:bold}</style> Not surprisingly, brokers are considering new segments for growth. \n",
       "<style>.tacstok{font-weight:bold}</style>\" Mid- market is still the foundation,\" said Mr. Cohen.<style>.tacstok{font-weight:bold}</style>\"<style>.tacstok{font-weight:bold}</style> Our tech and life sciences areas are growing.<style>.tacstok{font-weight:bold}</style>...<style>.tacstok{font-weight:bold}</style><span class=\"tacstok\">&nbsp Our </span><sub>  Pronoun1  </sub>&nbsp<span class=\"tacstok\">&nbsp cyber </span><sub>  Technology  </sub>&nbsp<span class=\"tacstok\">&nbsp liability </span><sub>  Risk  </sub>&nbsp is growing.<style>.tacstok{font-weight:bold}</style>\" \n",
       " Brokers want to write new business, retain clients and control costs, with organic growth being the\" holy grail\" in these three areas, said Mr. Gilbertson. \n",
       "<style>.tacstok{font-weight:bold}</style> Brokerages are showing a\" strong interest\" in personal lines and select commercial accounts generating less than $ 100,000 in premiums, said Mr. Hylant. \n",
       "<style>.tacstok{font-weight:bold}</style> Mr. Cohen said IMA has initiatives in small- commercial and high- end personal lines. \n",
       "<style>.tacstok{font-weight:bold}</style> From the underwriter side, there 's a\" huge push\" down- market, with an emphasis on\" historically underserved\" high net worth personal lines and small- commercial<span class=\"tacstok\">&nbsp business </span><sub>  Organisation  </sub>&nbsp, said Hiscox 's.<style>.tacstok{font-weight:bold}</style> Mr. Walter. \n",
       "<style>.tacstok{font-weight:bold}</style> Tapping that market presents a huge opportunity for Hiscox, said Nicole Goodwin, chief underwriting officer."
      ],
      "text/plain": [
       "<IPython.core.display.HTML object>"
      ]
     },
     "metadata": {},
     "output_type": "display_data"
    }
   ],
   "source": [
    "tacs_query(data[:3], 'tttp', qsents=True, return_all=True, data_save=False, annot_markup='html', annot_return = True, annot_save=True, annot_level='concept')"
   ]
  },
  {
   "cell_type": "code",
   "execution_count": 56,
   "metadata": {},
   "outputs": [],
   "source": [
    "data[:5].to_csv('demodata.csv')"
   ]
  },
  {
   "cell_type": "markdown",
   "metadata": {},
   "source": [
    "---"
   ]
  }
 ],
 "metadata": {
  "kernelspec": {
   "display_name": "Python 3",
   "language": "python",
   "name": "python3"
  },
  "language_info": {
   "codemirror_mode": {
    "name": "ipython",
    "version": 3
   },
   "file_extension": ".py",
   "mimetype": "text/x-python",
   "name": "python",
   "nbconvert_exporter": "python",
   "pygments_lexer": "ipython3",
   "version": "3.7.3"
  },
  "toc": {
   "base_numbering": 1,
   "nav_menu": {},
   "number_sections": false,
   "sideBar": true,
   "skip_h1_title": false,
   "title_cell": "Table of Contents",
   "title_sidebar": "Contents",
   "toc_cell": false,
   "toc_position": {
    "height": "calc(100% - 180px)",
    "left": "10px",
    "top": "150px",
    "width": "260.65625px"
   },
   "toc_section_display": true,
   "toc_window_display": true
  },
  "widgets": {
   "application/vnd.jupyter.widget-state+json": {
    "state": {},
    "version_major": 2,
    "version_minor": 0
   }
  }
 },
 "nbformat": 4,
 "nbformat_minor": 2
}
